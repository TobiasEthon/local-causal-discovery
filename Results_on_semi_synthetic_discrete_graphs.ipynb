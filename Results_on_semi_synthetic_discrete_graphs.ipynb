{
 "cells": [
  {
   "cell_type": "markdown",
   "metadata": {
    "id": "tPNeY8ttQuUI"
   },
   "source": [
    "Code for generating the results for semi-synthetic discrete graphs from [*bnlearn*](https://www.bnlearn.com/) (Fig. 18)."
   ]
  },
  {
   "cell_type": "code",
   "execution_count": null,
   "metadata": {
    "id": "8Xqc_6q-WNW1"
   },
   "outputs": [],
   "source": [
    "import numpy as np\n",
    "import pandas as pd\n",
    "import networkx as nx\n",
    "import numpy\n",
    "import pandas\n",
    "import networkx\n",
    "from itertools import combinations, permutations\n",
    "import logging\n",
    "from causallearn.utils.cit import CIT\n",
    "from sklearn import linear_model\n",
    "import collections\n",
    "import matplotlib.pyplot as plt\n",
    "import pickle as pkl\n",
    "from datetime import datetime\n",
    "import copy\n",
    "\n",
    "from causal_discovery.utils import *\n",
    "from causal_discovery.pc_alg import PCAlgorithm\n",
    "from causal_discovery.mb_by_mb import MBbyMBAlgorithm\n",
    "from causal_discovery.sd_alg import SequentialDiscoveryAlgorithm\n",
    "from causal_discovery.ldecc import LDECCAlgorithm"
   ]
  },
  {
   "cell_type": "code",
   "execution_count": null,
   "metadata": {
    "id": "pnj3tN45cbZq"
   },
   "outputs": [],
   "source": [
    "def get_bnlearn_graph(name):\n",
    "  import pickle\n",
    "  return pickle.load(open(\"data/bnlearn_%s_graph.pkl\" % name, \"rb\"))"
   ]
  },
  {
   "cell_type": "code",
   "execution_count": null,
   "metadata": {
    "id": "yw0LzlRmpced"
   },
   "outputs": [],
   "source": [
    "# One of \"alarm\", \"insurance\", or \"mildew\".\n",
    "graph_name = \"mildew\""
   ]
  },
  {
   "cell_type": "code",
   "execution_count": null,
   "metadata": {
    "id": "0qSr_-irdHwp"
   },
   "outputs": [],
   "source": [
    "graph_true = get_bnlearn_graph(graph_name)"
   ]
  },
  {
   "cell_type": "code",
   "execution_count": null,
   "metadata": {
    "id": "7vR1jyPM2vYj"
   },
   "outputs": [],
   "source": [
    "node = list(graph_true.nodes())[0]"
   ]
  },
  {
   "cell_type": "code",
   "execution_count": null,
   "metadata": {
    "id": "Y4Z0fjdz1A98"
   },
   "outputs": [],
   "source": [
    "pc_alg = PCAlgorithm(use_ci_oracle=True, graph_true=graph_true,\n",
    "                     treatment_node=node)\n",
    "cpdag_pc, _, _ = pc_alg.run(pd.DataFrame(columns=list(graph_true.nodes())))\n",
    "print(\"Total CI tests done: %d\" % pc_alg.ci_test_calls[\"total\"])"
   ]
  },
  {
   "cell_type": "code",
   "execution_count": null,
   "metadata": {
    "id": "ocEqP4jDejM1"
   },
   "outputs": [],
   "source": [
    "mb_by_mb_alg = MBbyMBAlgorithm(use_ci_oracle=True, graph_true=graph_true,\n",
    "                               treatment_node=node)\n",
    "result_mb_by_mb = mb_by_mb_alg.run(pd.DataFrame(columns=list(graph_true.nodes())))\n",
    "print(\"Total CI tests done: %d\" % mb_by_mb_alg.ci_test_calls[\"total\"])"
   ]
  },
  {
   "cell_type": "code",
   "execution_count": null,
   "metadata": {
    "id": "AhlAd4GUjgA5"
   },
   "outputs": [],
   "source": [
    "sd_alg = SequentialDiscoveryAlgorithm(use_ci_oracle=True, graph_true=graph_true,\n",
    "                                      treatment_node=node)\n",
    "result_sd = sd_alg.run(pd.DataFrame(columns=list(graph_true.nodes())))\n",
    "print(\"Total CI tests done: %d\" % sd_alg.ci_test_calls[\"total\"])"
   ]
  },
  {
   "cell_type": "code",
   "execution_count": null,
   "metadata": {
    "id": "TV5TXUenuTbq"
   },
   "outputs": [],
   "source": [
    "ldecc_alg = LDECCAlgorithm(use_ci_oracle=True, graph_true=graph_true, \n",
    "                           treatment_node=node, outcome_node=node)\n",
    "result_ldecc = ldecc_alg.run(pd.DataFrame(columns=list(graph_true.nodes())))\n",
    "print(\"Total CI tests done: %d\" % ldecc_alg.ci_test_calls[\"total\"])"
   ]
  },
  {
   "cell_type": "markdown",
   "metadata": {
    "id": "tymr64jTRhM9"
   },
   "source": [
    "Below we run the local causal discovery algorithms by setting each node as the treatment and plotting the distribution of the number of conditional independence tests."
   ]
  },
  {
   "cell_type": "code",
   "execution_count": null,
   "metadata": {
    "id": "usrEWReTyjl3"
   },
   "outputs": [],
   "source": [
    "def run_local_discovery_for_each_node(graph_true):\n",
    "\n",
    "  node_to_tests = {}\n",
    "\n",
    "  for node in graph_true.nodes():\n",
    "    empty_df = pd.DataFrame(columns=list(graph_true.nodes()))\n",
    "\n",
    "    mb_by_mb_alg = MBbyMBAlgorithm(use_ci_oracle=True, graph_true=graph_true,\n",
    "                                   treatment_node=node)\n",
    "    result_mb_by_mb = mb_by_mb_alg.run(empty_df)\n",
    "\n",
    "    sd_alg = SequentialDiscoveryAlgorithm(use_ci_oracle=True, graph_true=graph_true,\n",
    "                                          treatment_node=node)\n",
    "    result_sd = sd_alg.run(empty_df)\n",
    "\n",
    "    ldecc_alg = LDECCAlgorithm(use_ci_oracle=True, graph_true=graph_true, \n",
    "                              treatment_node=node, outcome_node=node)\n",
    "    result_ldecc = ldecc_alg.run(empty_df)\n",
    "    \n",
    "    node_to_tests[node] = {\n",
    "        \"mb-by-mb\": mb_by_mb_alg.ci_test_calls[\"total\"],\n",
    "        \"ldecc\": ldecc_alg.ci_test_calls[\"total\"],\n",
    "        \"sd-alg\": sd_alg.ci_test_calls[\"total\"],\n",
    "    }\n",
    "\n",
    "    print(\"Node done: %s, Tests: %s\" % (node, node_to_tests[node]))\n",
    "  \n",
    "  return node_to_tests\n",
    "  \n",
    "node_to_tests = run_local_discovery_for_each_node(graph_true)"
   ]
  },
  {
   "cell_type": "code",
   "execution_count": null,
   "metadata": {
    "id": "lDvbGe-Y1cOP"
   },
   "outputs": [],
   "source": [
    "# For the color map:\n",
    "# https://gist.github.com/AndiH/c957b4d769e628f506bd\n",
    "\n",
    "# Tableau 20 Colors\n",
    "tableau20 = [(31, 119, 180), (174, 199, 232), (255, 127, 14), (255, 187, 120),  \n",
    "             (44, 160, 44), (152, 223, 138), (214, 39, 40), (255, 152, 150),  \n",
    "             (148, 103, 189), (197, 176, 213), (140, 86, 75), (196, 156, 148),  \n",
    "             (227, 119, 194), (247, 182, 210), (127, 127, 127), (199, 199, 199),  \n",
    "             (188, 189, 34), (219, 219, 141), (23, 190, 207), (158, 218, 229)]\n",
    "             \n",
    "# Tableau Color Blind 10\n",
    "tableau20blind = [(0, 107, 164), (255, 128, 14), (171, 171, 171), (89, 89, 89),\n",
    "             (95, 158, 209), (200, 82, 0), (137, 137, 137), (163, 200, 236),\n",
    "             (255, 188, 121), (207, 207, 207)]\n",
    "  \n",
    "# Rescale to values between 0 and 1 \n",
    "for i in range(len(tableau20)):  \n",
    "    r, g, b = tableau20[i]  \n",
    "    tableau20[i] = (r / 255., g / 255., b / 255.)\n",
    "for i in range(len(tableau20blind)):  \n",
    "    r, g, b = tableau20blind[i]  \n",
    "    tableau20blind[i] = (r / 255., g / 255., b / 255.)"
   ]
  },
  {
   "cell_type": "code",
   "execution_count": null,
   "metadata": {
    "id": "U9mLTMRc1kkK"
   },
   "outputs": [],
   "source": [
    "SMALL_SIZE = 8\n",
    "MEDIUM_SIZE = 8\n",
    "BIGGER_SIZE = 8\n",
    "\n",
    "plt.rc('font', size=SMALL_SIZE)          # controls default text sizes\n",
    "plt.rc('axes', titlesize=SMALL_SIZE+6)     # fontsize of the axes title\n",
    "plt.rc('axes', labelsize=MEDIUM_SIZE+6)    # fontsize of the x and y labels\n",
    "plt.rc('xtick', labelsize=SMALL_SIZE + 4)    # fontsize of the tick labels\n",
    "plt.rc('ytick', labelsize=SMALL_SIZE+4)    # fontsize of the tick labels\n",
    "plt.rc('legend', fontsize=SMALL_SIZE+2)    # legend fontsize\n",
    "plt.rc('figure', titlesize=BIGGER_SIZE+20)  # fontsize of the figure title"
   ]
  },
  {
   "cell_type": "code",
   "execution_count": null,
   "metadata": {
    "id": "2MAKzoHd1mJj"
   },
   "outputs": [],
   "source": [
    "plot_prop = {\n",
    "    \"pc-alg\": [\"dashed\", tableau20blind[0], \"o\"],\n",
    "    \"ldecc\": [\"dashdot\", tableau20blind[1], \"^\"],\n",
    "    \"ldecc-checks\": [\"solid\", tableau20blind[5], \"s\"],\n",
    "    \"mb-by-mb\": [\"dashdot\", tableau20blind[7], \"D\"],\n",
    "    \"sd-alg\": [\"dotted\", tableau20blind[3], \"v\"],\n",
    "}"
   ]
  },
  {
   "cell_type": "code",
   "execution_count": null,
   "metadata": {
    "id": "Sm0u144Y05sj"
   },
   "outputs": [],
   "source": [
    "def plot_test_statistics(node_to_tests):\n",
    "  plt.figure(figsize=(6, 4))\n",
    "\n",
    "  tests_mb_by_mb = [node_to_tests[k][\"mb-by-mb\"] for k in node_to_tests.keys()]\n",
    "  tests_sd = [node_to_tests[k][\"sd-alg\"] for k in node_to_tests.keys()]\n",
    "  tests_ldecc = [node_to_tests[k][\"ldecc\"] for k in node_to_tests.keys()]\n",
    "\n",
    "  plt.hist([tests_mb_by_mb, tests_sd, tests_ldecc],\n",
    "           label=[\"MB-by-MB\", \"SD\", \"LDECC\"], \n",
    "           color=[plot_prop[\"mb-by-mb\"][1], \n",
    "                  plot_prop[\"sd-alg\"][1], plot_prop[\"ldecc\"][1]])\n",
    "  plt.axvline(pc_alg.ci_test_calls[\"total\"], label=\"PC\",\n",
    "              color=plot_prop[\"pc-alg\"][1])\n",
    "  plt.legend()\n",
    "  plt.title(\"Distribution of CI tests\")\n",
    "  plt.xlabel(\"Number of CI tests\")\n",
    "  plt.ylabel(\"Number of nodes\")\n",
    "  plt.show()\n",
    "\n",
    "\n",
    "plot_test_statistics(node_to_tests)"
   ]
  }
 ],
 "metadata": {
  "colab": {
   "provenance": []
  },
  "kernelspec": {
   "display_name": "Python 3 (ipykernel)",
   "language": "python",
   "name": "python3"
  },
  "language_info": {
   "codemirror_mode": {
    "name": "ipython",
    "version": 3
   },
   "file_extension": ".py",
   "mimetype": "text/x-python",
   "name": "python",
   "nbconvert_exporter": "python",
   "pygments_lexer": "ipython3",
   "version": "3.9.13"
  }
 },
 "nbformat": 4,
 "nbformat_minor": 1
}
