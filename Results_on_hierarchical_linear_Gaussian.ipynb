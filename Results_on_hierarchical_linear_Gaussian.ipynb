{
 "cells": [
  {
   "cell_type": "markdown",
   "metadata": {
    "id": "Gciw4GKDUS0_"
   },
   "source": [
    "Code for generating the results for semi-synthetic linear Gaussian graphs from [*bnlearn*](https://www.bnlearn.com/) (Figs. 11,17)."
   ]
  },
  {
   "cell_type": "code",
   "execution_count": 12,
   "metadata": {
    "id": "8Xqc_6q-WNW1"
   },
   "outputs": [],
   "source": [
    "import numpy as np\n",
    "import pandas as pd\n",
    "import networkx as nx\n",
    "import numpy\n",
    "import pandas\n",
    "import networkx\n",
    "from itertools import combinations, permutations\n",
    "import logging\n",
    "from causallearn.utils.cit import CIT\n",
    "import collections\n",
    "import matplotlib.pyplot as plt\n",
    "import pickle as pkl\n",
    "from datetime import datetime\n",
    "import copy\n",
    "\n",
    "from causal_discovery.utils import *\n",
    "from causal_discovery.pc_alg import PCAlgorithm\n",
    "from causal_discovery.mb_by_mb import MBbyMBAlgorithm\n",
    "from causal_discovery.sd_alg import SequentialDiscoveryAlgorithm\n",
    "from causal_discovery.ldecc import LDECCAlgorithm"
   ]
  },
  {
   "cell_type": "code",
   "execution_count": 13,
   "metadata": {
    "id": "pnj3tN45cbZq"
   },
   "outputs": [],
   "source": [
    "def get_bnlearn_graph_params(name):\n",
    "  import pickle\n",
    "  return pickle.load(open(\"data/bnlearn-%s.pkl\" % name, \"rb\"))\n",
    "\n",
    "def get_cov_matrix(G_weighted, G_std):\n",
    "  A = G_weighted\n",
    "  B = np.linalg.inv(np.eye(A.shape[0]) - A)\n",
    "  noise_cov = G_std**2\n",
    "  cov_matrix = B @ noise_cov @ B.T\n",
    "  return cov_matrix"
   ]
  },
  {
   "cell_type": "code",
   "execution_count": null,
   "metadata": {},
   "outputs": [],
   "source": []
  },
  {
   "cell_type": "code",
   "execution_count": 14,
   "metadata": {
    "id": "sYvrSkYZpoL_"
   },
   "outputs": [],
   "source": [
    "graph_to_tmt_outcome = {\n",
    "    \"magic-niab\": {\n",
    "        \"treatment\": \"G266\",\n",
    "        \"outcome\": \"HT\",\n",
    "    },\n",
    "    \"magic-irri\": {\n",
    "        \"treatment\": \"G6003\",\n",
    "        \"outcome\": \"BROWN\",\n",
    "    },\n",
    "}"
   ]
  },
  {
   "cell_type": "code",
   "execution_count": 15,
   "metadata": {
    "id": "yw0LzlRmpced"
   },
   "outputs": [],
   "source": [
    "# one of \"magic-niab\" or \"magic-irri\".\n",
    "graph_name = \"magic-niab\""
   ]
  },
  {
   "cell_type": "code",
   "execution_count": 16,
   "metadata": {
    "id": "0qSr_-irdHwp"
   },
   "outputs": [],
   "source": [
    "G_weighted, G_std, node_names = get_bnlearn_graph_params(graph_name)\n",
    "graph_true = adj_matrix_to_nx_graph(G_weighted, node_names)"
   ]
  },
  {
   "cell_type": "code",
   "execution_count": 17,
   "metadata": {
    "id": "MDmFAlz6qFGC"
   },
   "outputs": [],
   "source": [
    "graph_true = nx.relabel_nodes(graph_true, {\n",
    "    graph_to_tmt_outcome[graph_name][\"treatment\"]: \"X\",\n",
    "    graph_to_tmt_outcome[graph_name][\"outcome\"]: \"Y\"\n",
    "})"
   ]
  },
  {
   "cell_type": "code",
   "execution_count": 18,
   "metadata": {
    "colab": {
     "base_uri": "https://localhost:8080/",
     "height": 255
    },
    "id": "xoFVii0MdmFC",
    "outputId": "7b62af84-c574-4881-a928-a90ed60503a5"
   },
   "outputs": [
    {
     "data": {
      "text/html": [
       "<div>\n",
       "<style scoped>\n",
       "    .dataframe tbody tr th:only-of-type {\n",
       "        vertical-align: middle;\n",
       "    }\n",
       "\n",
       "    .dataframe tbody tr th {\n",
       "        vertical-align: top;\n",
       "    }\n",
       "\n",
       "    .dataframe thead th {\n",
       "        text-align: right;\n",
       "    }\n",
       "</style>\n",
       "<table border=\"1\" class=\"dataframe\">\n",
       "  <thead>\n",
       "    <tr style=\"text-align: right;\">\n",
       "      <th></th>\n",
       "      <th>YR.GLASS</th>\n",
       "      <th>Y</th>\n",
       "      <th>YR.FIELD</th>\n",
       "      <th>MIL</th>\n",
       "      <th>FT</th>\n",
       "      <th>G418</th>\n",
       "      <th>G311</th>\n",
       "      <th>G1217</th>\n",
       "      <th>G800</th>\n",
       "      <th>G866</th>\n",
       "      <th>...</th>\n",
       "      <th>G2318</th>\n",
       "      <th>G1294</th>\n",
       "      <th>G1800</th>\n",
       "      <th>YLD</th>\n",
       "      <th>FUS</th>\n",
       "      <th>G1750</th>\n",
       "      <th>G524</th>\n",
       "      <th>G775</th>\n",
       "      <th>G2835</th>\n",
       "      <th>G43</th>\n",
       "    </tr>\n",
       "  </thead>\n",
       "  <tbody>\n",
       "    <tr>\n",
       "      <th>0</th>\n",
       "      <td>-1.091989</td>\n",
       "      <td>0.796907</td>\n",
       "      <td>-0.403872</td>\n",
       "      <td>-0.569469</td>\n",
       "      <td>-2.665879</td>\n",
       "      <td>-0.394184</td>\n",
       "      <td>-0.357452</td>\n",
       "      <td>-1.853955</td>\n",
       "      <td>-1.104084</td>\n",
       "      <td>0.910463</td>\n",
       "      <td>...</td>\n",
       "      <td>0.715239</td>\n",
       "      <td>-0.131579</td>\n",
       "      <td>0.309149</td>\n",
       "      <td>1.600596</td>\n",
       "      <td>1.102433</td>\n",
       "      <td>-0.882447</td>\n",
       "      <td>-0.210417</td>\n",
       "      <td>0.059481</td>\n",
       "      <td>0.205350</td>\n",
       "      <td>0.475546</td>\n",
       "    </tr>\n",
       "    <tr>\n",
       "      <th>1</th>\n",
       "      <td>-0.733643</td>\n",
       "      <td>1.627270</td>\n",
       "      <td>-0.334719</td>\n",
       "      <td>-0.201648</td>\n",
       "      <td>1.750155</td>\n",
       "      <td>-0.821588</td>\n",
       "      <td>-0.418812</td>\n",
       "      <td>-0.504237</td>\n",
       "      <td>0.017351</td>\n",
       "      <td>-0.697159</td>\n",
       "      <td>...</td>\n",
       "      <td>2.075532</td>\n",
       "      <td>1.124386</td>\n",
       "      <td>-0.104469</td>\n",
       "      <td>0.431668</td>\n",
       "      <td>-1.369764</td>\n",
       "      <td>-0.920874</td>\n",
       "      <td>0.092687</td>\n",
       "      <td>-0.086054</td>\n",
       "      <td>-0.064373</td>\n",
       "      <td>0.420616</td>\n",
       "    </tr>\n",
       "    <tr>\n",
       "      <th>2</th>\n",
       "      <td>-0.900280</td>\n",
       "      <td>-4.028214</td>\n",
       "      <td>0.148907</td>\n",
       "      <td>-0.138050</td>\n",
       "      <td>-1.198631</td>\n",
       "      <td>-0.176297</td>\n",
       "      <td>0.211950</td>\n",
       "      <td>0.099307</td>\n",
       "      <td>-1.927284</td>\n",
       "      <td>-0.510498</td>\n",
       "      <td>...</td>\n",
       "      <td>1.393339</td>\n",
       "      <td>0.649238</td>\n",
       "      <td>-0.219356</td>\n",
       "      <td>-0.825512</td>\n",
       "      <td>0.533359</td>\n",
       "      <td>1.609185</td>\n",
       "      <td>-1.328323</td>\n",
       "      <td>0.006370</td>\n",
       "      <td>-0.138648</td>\n",
       "      <td>0.537910</td>\n",
       "    </tr>\n",
       "    <tr>\n",
       "      <th>3</th>\n",
       "      <td>-0.321346</td>\n",
       "      <td>6.412923</td>\n",
       "      <td>-0.046021</td>\n",
       "      <td>0.685192</td>\n",
       "      <td>0.794203</td>\n",
       "      <td>0.252270</td>\n",
       "      <td>-0.398483</td>\n",
       "      <td>0.316916</td>\n",
       "      <td>-0.222170</td>\n",
       "      <td>1.185790</td>\n",
       "      <td>...</td>\n",
       "      <td>0.182922</td>\n",
       "      <td>-0.457161</td>\n",
       "      <td>0.234129</td>\n",
       "      <td>0.672461</td>\n",
       "      <td>0.024934</td>\n",
       "      <td>0.189189</td>\n",
       "      <td>0.187236</td>\n",
       "      <td>-0.586719</td>\n",
       "      <td>0.216116</td>\n",
       "      <td>0.498904</td>\n",
       "    </tr>\n",
       "    <tr>\n",
       "      <th>4</th>\n",
       "      <td>-0.567413</td>\n",
       "      <td>-6.033674</td>\n",
       "      <td>-0.252185</td>\n",
       "      <td>-0.175183</td>\n",
       "      <td>-1.185173</td>\n",
       "      <td>0.197365</td>\n",
       "      <td>0.121573</td>\n",
       "      <td>-1.012849</td>\n",
       "      <td>-1.774555</td>\n",
       "      <td>0.491739</td>\n",
       "      <td>...</td>\n",
       "      <td>0.866705</td>\n",
       "      <td>0.289031</td>\n",
       "      <td>0.603375</td>\n",
       "      <td>0.052746</td>\n",
       "      <td>0.195792</td>\n",
       "      <td>0.730385</td>\n",
       "      <td>0.622178</td>\n",
       "      <td>-0.142367</td>\n",
       "      <td>-0.169089</td>\n",
       "      <td>-0.569128</td>\n",
       "    </tr>\n",
       "  </tbody>\n",
       "</table>\n",
       "<p>5 rows × 44 columns</p>\n",
       "</div>"
      ],
      "text/plain": [
       "   YR.GLASS         Y  YR.FIELD       MIL        FT      G418      G311  \\\n",
       "0 -1.091989  0.796907 -0.403872 -0.569469 -2.665879 -0.394184 -0.357452   \n",
       "1 -0.733643  1.627270 -0.334719 -0.201648  1.750155 -0.821588 -0.418812   \n",
       "2 -0.900280 -4.028214  0.148907 -0.138050 -1.198631 -0.176297  0.211950   \n",
       "3 -0.321346  6.412923 -0.046021  0.685192  0.794203  0.252270 -0.398483   \n",
       "4 -0.567413 -6.033674 -0.252185 -0.175183 -1.185173  0.197365  0.121573   \n",
       "\n",
       "      G1217      G800      G866  ...     G2318     G1294     G1800       YLD  \\\n",
       "0 -1.853955 -1.104084  0.910463  ...  0.715239 -0.131579  0.309149  1.600596   \n",
       "1 -0.504237  0.017351 -0.697159  ...  2.075532  1.124386 -0.104469  0.431668   \n",
       "2  0.099307 -1.927284 -0.510498  ...  1.393339  0.649238 -0.219356 -0.825512   \n",
       "3  0.316916 -0.222170  1.185790  ...  0.182922 -0.457161  0.234129  0.672461   \n",
       "4 -1.012849 -1.774555  0.491739  ...  0.866705  0.289031  0.603375  0.052746   \n",
       "\n",
       "        FUS     G1750      G524      G775     G2835       G43  \n",
       "0  1.102433 -0.882447 -0.210417  0.059481  0.205350  0.475546  \n",
       "1 -1.369764 -0.920874  0.092687 -0.086054 -0.064373  0.420616  \n",
       "2  0.533359  1.609185 -1.328323  0.006370 -0.138648  0.537910  \n",
       "3  0.024934  0.189189  0.187236 -0.586719  0.216116  0.498904  \n",
       "4  0.195792  0.730385  0.622178 -0.142367 -0.169089 -0.569128  \n",
       "\n",
       "[5 rows x 44 columns]"
      ]
     },
     "execution_count": 18,
     "metadata": {},
     "output_type": "execute_result"
    }
   ],
   "source": [
    "data = get_dataset(G_weighted, np.diag(G_std)**2, 1000, list(graph_true.nodes()))\n",
    "data.head()"
   ]
  },
  {
   "cell_type": "code",
   "execution_count": 22,
   "metadata": {},
   "outputs": [
    {
     "data": {
      "text/plain": [
       "Index(['YR.GLASS', 'Y', 'YR.FIELD', 'MIL', 'FT', 'G418', 'G311', 'G1217',\n",
       "       'G800', 'G866', 'G795', 'G2570', 'G260', 'G2920', 'G832', 'G1896',\n",
       "       'G2953', 'X', 'G847', 'G942', 'G200', 'G257', 'G2208', 'G1373', 'G599',\n",
       "       'G261', 'G383', 'G1853', 'G1033', 'G1945', 'G1338', 'G1276', 'G1263',\n",
       "       'G1789', 'G2318', 'G1294', 'G1800', 'YLD', 'FUS', 'G1750', 'G524',\n",
       "       'G775', 'G2835', 'G43'],\n",
       "      dtype='object')"
      ]
     },
     "execution_count": 22,
     "metadata": {},
     "output_type": "execute_result"
    }
   ],
   "source": [
    "data.columns"
   ]
  },
  {
   "cell_type": "code",
   "execution_count": 81,
   "metadata": {
    "id": "_REfaO6ID9N5"
   },
   "outputs": [],
   "source": [
    "sample_cov = data.cov().values"
   ]
  },
  {
   "cell_type": "code",
   "execution_count": 83,
   "metadata": {},
   "outputs": [
    {
     "data": {
      "text/plain": [
       "(44, 44)"
      ]
     },
     "execution_count": 83,
     "metadata": {},
     "output_type": "execute_result"
    }
   ],
   "source": [
    "sample_cov.shape"
   ]
  },
  {
   "cell_type": "code",
   "execution_count": 85,
   "metadata": {},
   "outputs": [
    {
     "data": {
      "text/plain": [
       "pandas.core.frame.DataFrame"
      ]
     },
     "execution_count": 85,
     "metadata": {},
     "output_type": "execute_result"
    }
   ],
   "source": []
  },
  {
   "cell_type": "code",
   "execution_count": 46,
   "metadata": {},
   "outputs": [
    {
     "name": "stderr",
     "output_type": "stream",
     "text": [
      "2023-04-12 09:39:50,196 - /Users/tobiashatt/opt/anaconda3/lib/python3.9/site-packages/castle/backend/__init__.py[line:36] - INFO: You can use `os.environ['CASTLE_BACKEND'] = backend` to set the backend(`pytorch` or `mindspore`).\n",
      "2023-04-12 09:39:50,323 - /Users/tobiashatt/opt/anaconda3/lib/python3.9/site-packages/castle/algorithms/__init__.py[line:36] - INFO: You are using ``pytorch`` as the backend.\n"
     ]
    }
   ],
   "source": [
    "import pandas as pd\n",
    "from castle.common import GraphDAG\n",
    "from castle.metrics import MetricsDAG\n",
    "from castle.datasets import IIDSimulation, DAG\n",
    "from castle.algorithms import PC\n",
    "import networkx as nx\n",
    "from lingam.utils import make_dot"
   ]
  },
  {
   "cell_type": "code",
   "execution_count": 228,
   "metadata": {},
   "outputs": [
    {
     "name": "stderr",
     "output_type": "stream",
     "text": [
      "2023-04-12 13:13:27,943 - /Users/tobiashatt/opt/anaconda3/lib/python3.9/site-packages/castle/datasets/simulator.py[line:270] - INFO: Finished synthetic dataset\n"
     ]
    }
   ],
   "source": [
    "n_nodes = 10\n",
    "degree=3\n",
    "graph_level=5\n",
    "weight_range=None\n",
    "\n",
    "# data simulation, simulate true causal dag and train_data.\n",
    "weighted_hierachical_dag = DAG.hierarchical(n_nodes=n_nodes, degree=degree, graph_level=graph_level, weight_range=weight_range ,seed=1)\n",
    "weighted_hierachical_dag = weighted_hierachical_dag.transpose()\n",
    "\n",
    "#Generate data\n",
    "method = 'linear'\n",
    "sem_type = 'gauss'\n",
    "n = 2000\n",
    "\n",
    "dataset = IIDSimulation(W=weighted_hierachical_dag, n=n, method=method, sem_type=sem_type)\n",
    "\n",
    "#Nme columns\n",
    "col_names = ['x_' + str(i) for i in range(dataset.X.shape[1]-1)] + ['Y']\n",
    "df = pd.DataFrame(dataset.X, columns = col_names)\n"
   ]
  },
  {
   "cell_type": "code",
   "execution_count": 90,
   "metadata": {},
   "outputs": [],
   "source": [
    "sample_cov = df.cov().values"
   ]
  },
  {
   "cell_type": "code",
   "execution_count": 105,
   "metadata": {},
   "outputs": [
    {
     "data": {
      "text/plain": [
       "array([[ 1.012e+00, -1.254e-02, -1.153e-02,  1.015e+00, -2.342e-02,\n",
       "         1.016e+00,  1.057e+00, -4.531e-02, -4.041e-02,  1.988e+00],\n",
       "       [-1.254e-02,  9.798e-01, -8.802e-03,  1.242e-03, -2.134e-02,\n",
       "         3.520e-03, -2.040e-02,  1.001e+00,  4.053e-02,  7.129e-02],\n",
       "       [-1.153e-02, -8.802e-03,  1.019e+00, -1.396e-02,  1.018e+00,\n",
       "         9.981e-01, -1.798e-02,  1.031e+00, -6.467e-03,  9.913e-01],\n",
       "       [ 1.015e+00,  1.242e-03, -1.396e-02,  2.000e+00, -2.383e-02,\n",
       "         1.031e+00,  1.068e+00, -4.765e-02, -6.192e-02,  2.042e+00],\n",
       "       [-2.342e-02, -2.134e-02,  1.018e+00, -2.383e-02,  2.018e+00,\n",
       "         9.970e-01, -2.117e-02,  1.043e+00, -1.186e-02,  9.706e-01],\n",
       "       [ 1.016e+00,  3.520e-03,  9.981e-01,  1.031e+00,  9.970e-01,\n",
       "         3.033e+00,  1.060e+00,  9.964e-01, -7.923e-02,  3.988e+00],\n",
       "       [ 1.057e+00, -2.040e-02, -1.798e-02,  1.068e+00, -2.117e-02,\n",
       "         1.060e+00,  2.115e+00, -7.203e-02, -4.143e-02,  2.134e+00],\n",
       "       [-4.531e-02,  1.001e+00,  1.031e+00, -4.765e-02,  1.043e+00,\n",
       "         9.964e-01, -7.203e-02,  3.100e+00,  2.859e-02,  1.060e+00],\n",
       "       [-4.041e-02,  4.053e-02, -6.467e-03, -6.192e-02, -1.186e-02,\n",
       "        -7.923e-02, -4.143e-02,  2.859e-02,  9.906e-01,  8.886e-01],\n",
       "       [ 1.988e+00,  7.129e-02,  9.913e-01,  2.042e+00,  9.706e-01,\n",
       "         3.988e+00,  2.134e+00,  1.060e+00,  8.886e-01,  7.889e+00]])"
      ]
     },
     "execution_count": 105,
     "metadata": {},
     "output_type": "execute_result"
    }
   ],
   "source": [
    "sample_cov"
   ]
  },
  {
   "cell_type": "code",
   "execution_count": 118,
   "metadata": {},
   "outputs": [
    {
     "data": {
      "text/plain": [
       "array([[0., 0., 0., 1., 0., 1., 1., 0., 0., 1.],\n",
       "       [0., 0., 0., 0., 0., 0., 0., 1., 0., 0.],\n",
       "       [0., 0., 0., 0., 1., 1., 0., 1., 0., 0.],\n",
       "       [0., 0., 0., 0., 0., 0., 0., 0., 0., 0.],\n",
       "       [0., 0., 0., 0., 0., 0., 0., 0., 0., 0.],\n",
       "       [0., 0., 0., 0., 0., 0., 0., 0., 0., 1.],\n",
       "       [0., 0., 0., 0., 0., 0., 0., 0., 0., 0.],\n",
       "       [0., 0., 0., 0., 0., 0., 0., 0., 0., 0.],\n",
       "       [0., 0., 0., 0., 0., 0., 0., 0., 0., 1.],\n",
       "       [0., 0., 0., 0., 0., 0., 0., 0., 0., 0.]])"
      ]
     },
     "execution_count": 118,
     "metadata": {},
     "output_type": "execute_result"
    }
   ],
   "source": [
    "weighted_hierachical_dag"
   ]
  },
  {
   "cell_type": "code",
   "execution_count": 151,
   "metadata": {},
   "outputs": [],
   "source": [
    "def get_subgraph(size: int, idx_treatment: int, idx_parents: list) -> numpy.ndarray:\n",
    "    adj_matrix = np.zeros((size, size))\n",
    "    adj_matrix[idx_parents, idx_treatment] = 1\n",
    "    return adj_matrix"
   ]
  },
  {
   "cell_type": "code",
   "execution_count": 170,
   "metadata": {},
   "outputs": [],
   "source": [
    "def get_subgraph_from_graph(graph: numpy.ndarray, idx_treatment: int) -> numpy.ndarray:\n",
    "    idx_parents = list(np.argwhere(graph[:, idx_treatment] == 1).flatten())\n",
    "    return get_subgraph(graph.shape[0], idx_treatment, idx_parents)"
   ]
  },
  {
   "cell_type": "code",
   "execution_count": 171,
   "metadata": {},
   "outputs": [
    {
     "data": {
      "text/plain": [
       "array([[0., 0., 0., 0., 0., 1., 0., 0., 0., 0.],\n",
       "       [0., 0., 0., 0., 0., 0., 0., 0., 0., 0.],\n",
       "       [0., 0., 0., 0., 0., 1., 0., 0., 0., 0.],\n",
       "       [0., 0., 0., 0., 0., 0., 0., 0., 0., 0.],\n",
       "       [0., 0., 0., 0., 0., 0., 0., 0., 0., 0.],\n",
       "       [0., 0., 0., 0., 0., 0., 0., 0., 0., 0.],\n",
       "       [0., 0., 0., 0., 0., 0., 0., 0., 0., 0.],\n",
       "       [0., 0., 0., 0., 0., 0., 0., 0., 0., 0.],\n",
       "       [0., 0., 0., 0., 0., 0., 0., 0., 0., 0.],\n",
       "       [0., 0., 0., 0., 0., 0., 0., 0., 0., 0.]])"
      ]
     },
     "execution_count": 171,
     "metadata": {},
     "output_type": "execute_result"
    }
   ],
   "source": [
    "get_subgraph_from_graph(weighted_hierachical_dag, 5)"
   ]
  },
  {
   "cell_type": "code",
   "execution_count": 91,
   "metadata": {},
   "outputs": [
    {
     "data": {
      "image/svg+xml": [
       "<?xml version=\"1.0\" encoding=\"UTF-8\" standalone=\"no\"?>\n",
       "<!DOCTYPE svg PUBLIC \"-//W3C//DTD SVG 1.1//EN\"\n",
       " \"http://www.w3.org/Graphics/SVG/1.1/DTD/svg11.dtd\">\n",
       "<!-- Generated by graphviz version 2.50.0 (0)\n",
       " -->\n",
       "<!-- Pages: 1 -->\n",
       "<svg width=\"487pt\" height=\"218pt\"\n",
       " viewBox=\"0.00 0.00 486.86 218.00\" xmlns=\"http://www.w3.org/2000/svg\" xmlns:xlink=\"http://www.w3.org/1999/xlink\">\n",
       "<g id=\"graph0\" class=\"graph\" transform=\"scale(1 1) rotate(0) translate(4 214)\">\n",
       "<polygon fill=\"white\" stroke=\"transparent\" points=\"-4,4 -4,-214 482.86,-214 482.86,4 -4,4\"/>\n",
       "<!-- x0 -->\n",
       "<g id=\"node1\" class=\"node\">\n",
       "<title>x0</title>\n",
       "<ellipse fill=\"none\" stroke=\"black\" cx=\"103.86\" cy=\"-192\" rx=\"27\" ry=\"18\"/>\n",
       "<text text-anchor=\"middle\" x=\"103.86\" y=\"-188.3\" font-family=\"Times,serif\" font-size=\"14.00\">x0</text>\n",
       "</g>\n",
       "<!-- x3 -->\n",
       "<g id=\"node4\" class=\"node\">\n",
       "<title>x3</title>\n",
       "<ellipse fill=\"none\" stroke=\"black\" cx=\"67.86\" cy=\"-105\" rx=\"27\" ry=\"18\"/>\n",
       "<text text-anchor=\"middle\" x=\"67.86\" y=\"-101.3\" font-family=\"Times,serif\" font-size=\"14.00\">x3</text>\n",
       "</g>\n",
       "<!-- x0&#45;&gt;x3 -->\n",
       "<g id=\"edge1\" class=\"edge\">\n",
       "<title>x0&#45;&gt;x3</title>\n",
       "<path fill=\"none\" stroke=\"black\" d=\"M96.74,-174.21C91.63,-162.14 84.64,-145.64 78.82,-131.89\"/>\n",
       "<polygon fill=\"black\" stroke=\"black\" points=\"81.95,-130.31 74.83,-122.47 75.51,-133.04 81.95,-130.31\"/>\n",
       "<text text-anchor=\"middle\" x=\"100.36\" y=\"-144.8\" font-family=\"Times,serif\" font-size=\"14.00\">1.00</text>\n",
       "</g>\n",
       "<!-- x5 -->\n",
       "<g id=\"node6\" class=\"node\">\n",
       "<title>x5</title>\n",
       "<ellipse fill=\"none\" stroke=\"black\" cx=\"283.86\" cy=\"-105\" rx=\"27\" ry=\"18\"/>\n",
       "<text text-anchor=\"middle\" x=\"283.86\" y=\"-101.3\" font-family=\"Times,serif\" font-size=\"14.00\">x5</text>\n",
       "</g>\n",
       "<!-- x0&#45;&gt;x5 -->\n",
       "<g id=\"edge3\" class=\"edge\">\n",
       "<title>x0&#45;&gt;x5</title>\n",
       "<path fill=\"none\" stroke=\"black\" d=\"M125.21,-180.92C157.01,-165.9 216.96,-137.59 253.37,-120.4\"/>\n",
       "<polygon fill=\"black\" stroke=\"black\" points=\"254.98,-123.51 262.53,-116.07 251.99,-117.18 254.98,-123.51\"/>\n",
       "<text text-anchor=\"middle\" x=\"216.36\" y=\"-144.8\" font-family=\"Times,serif\" font-size=\"14.00\">1.00</text>\n",
       "</g>\n",
       "<!-- x6 -->\n",
       "<g id=\"node7\" class=\"node\">\n",
       "<title>x6</title>\n",
       "<ellipse fill=\"none\" stroke=\"black\" cx=\"139.86\" cy=\"-105\" rx=\"27\" ry=\"18\"/>\n",
       "<text text-anchor=\"middle\" x=\"139.86\" y=\"-101.3\" font-family=\"Times,serif\" font-size=\"14.00\">x6</text>\n",
       "</g>\n",
       "<!-- x0&#45;&gt;x6 -->\n",
       "<g id=\"edge5\" class=\"edge\">\n",
       "<title>x0&#45;&gt;x6</title>\n",
       "<path fill=\"none\" stroke=\"black\" d=\"M110.97,-174.21C116.08,-162.14 123.07,-145.64 128.89,-131.89\"/>\n",
       "<polygon fill=\"black\" stroke=\"black\" points=\"132.2,-133.04 132.88,-122.47 125.76,-130.31 132.2,-133.04\"/>\n",
       "<text text-anchor=\"middle\" x=\"136.36\" y=\"-144.8\" font-family=\"Times,serif\" font-size=\"14.00\">1.00</text>\n",
       "</g>\n",
       "<!-- x9 -->\n",
       "<g id=\"node10\" class=\"node\">\n",
       "<title>x9</title>\n",
       "<ellipse fill=\"none\" stroke=\"black\" cx=\"211.86\" cy=\"-18\" rx=\"27\" ry=\"18\"/>\n",
       "<text text-anchor=\"middle\" x=\"211.86\" y=\"-14.3\" font-family=\"Times,serif\" font-size=\"14.00\">x9</text>\n",
       "</g>\n",
       "<!-- x0&#45;&gt;x9 -->\n",
       "<g id=\"edge8\" class=\"edge\">\n",
       "<title>x0&#45;&gt;x9</title>\n",
       "<path fill=\"none\" stroke=\"black\" d=\"M82.08,-181.27C45.78,-163.7 -20.53,-124.94 6.86,-87 45.11,-34 126.32,-21.65 174.25,-19.16\"/>\n",
       "<polygon fill=\"black\" stroke=\"black\" points=\"174.66,-22.65 184.52,-18.76 174.39,-15.66 174.66,-22.65\"/>\n",
       "<text text-anchor=\"middle\" x=\"19.36\" y=\"-101.3\" font-family=\"Times,serif\" font-size=\"14.00\">1.00</text>\n",
       "</g>\n",
       "<!-- x1 -->\n",
       "<g id=\"node2\" class=\"node\">\n",
       "<title>x1</title>\n",
       "<ellipse fill=\"none\" stroke=\"black\" cx=\"451.86\" cy=\"-192\" rx=\"27\" ry=\"18\"/>\n",
       "<text text-anchor=\"middle\" x=\"451.86\" y=\"-188.3\" font-family=\"Times,serif\" font-size=\"14.00\">x1</text>\n",
       "</g>\n",
       "<!-- x7 -->\n",
       "<g id=\"node8\" class=\"node\">\n",
       "<title>x7</title>\n",
       "<ellipse fill=\"none\" stroke=\"black\" cx=\"439.86\" cy=\"-105\" rx=\"27\" ry=\"18\"/>\n",
       "<text text-anchor=\"middle\" x=\"439.86\" y=\"-101.3\" font-family=\"Times,serif\" font-size=\"14.00\">x7</text>\n",
       "</g>\n",
       "<!-- x1&#45;&gt;x7 -->\n",
       "<g id=\"edge6\" class=\"edge\">\n",
       "<title>x1&#45;&gt;x7</title>\n",
       "<path fill=\"none\" stroke=\"black\" d=\"M449.43,-173.8C447.78,-162.16 445.58,-146.55 443.7,-133.24\"/>\n",
       "<polygon fill=\"black\" stroke=\"black\" points=\"447.14,-132.59 442.28,-123.18 440.21,-133.57 447.14,-132.59\"/>\n",
       "<text text-anchor=\"middle\" x=\"458.36\" y=\"-144.8\" font-family=\"Times,serif\" font-size=\"14.00\">1.00</text>\n",
       "</g>\n",
       "<!-- x2 -->\n",
       "<g id=\"node3\" class=\"node\">\n",
       "<title>x2</title>\n",
       "<ellipse fill=\"none\" stroke=\"black\" cx=\"355.86\" cy=\"-192\" rx=\"27\" ry=\"18\"/>\n",
       "<text text-anchor=\"middle\" x=\"355.86\" y=\"-188.3\" font-family=\"Times,serif\" font-size=\"14.00\">x2</text>\n",
       "</g>\n",
       "<!-- x4 -->\n",
       "<g id=\"node5\" class=\"node\">\n",
       "<title>x4</title>\n",
       "<ellipse fill=\"none\" stroke=\"black\" cx=\"355.86\" cy=\"-105\" rx=\"27\" ry=\"18\"/>\n",
       "<text text-anchor=\"middle\" x=\"355.86\" y=\"-101.3\" font-family=\"Times,serif\" font-size=\"14.00\">x4</text>\n",
       "</g>\n",
       "<!-- x2&#45;&gt;x4 -->\n",
       "<g id=\"edge2\" class=\"edge\">\n",
       "<title>x2&#45;&gt;x4</title>\n",
       "<path fill=\"none\" stroke=\"black\" d=\"M355.86,-173.8C355.86,-162.16 355.86,-146.55 355.86,-133.24\"/>\n",
       "<polygon fill=\"black\" stroke=\"black\" points=\"359.36,-133.18 355.86,-123.18 352.36,-133.18 359.36,-133.18\"/>\n",
       "<text text-anchor=\"middle\" x=\"368.36\" y=\"-144.8\" font-family=\"Times,serif\" font-size=\"14.00\">1.00</text>\n",
       "</g>\n",
       "<!-- x2&#45;&gt;x5 -->\n",
       "<g id=\"edge4\" class=\"edge\">\n",
       "<title>x2&#45;&gt;x5</title>\n",
       "<path fill=\"none\" stroke=\"black\" d=\"M342.98,-175.8C331.93,-162.75 315.82,-143.74 303.21,-128.85\"/>\n",
       "<polygon fill=\"black\" stroke=\"black\" points=\"305.75,-126.43 296.62,-121.06 300.41,-130.96 305.75,-126.43\"/>\n",
       "<text text-anchor=\"middle\" x=\"336.36\" y=\"-144.8\" font-family=\"Times,serif\" font-size=\"14.00\">1.00</text>\n",
       "</g>\n",
       "<!-- x2&#45;&gt;x7 -->\n",
       "<g id=\"edge7\" class=\"edge\">\n",
       "<title>x2&#45;&gt;x7</title>\n",
       "<path fill=\"none\" stroke=\"black\" d=\"M370.11,-176.58C383.26,-163.27 402.99,-143.31 418.11,-128.01\"/>\n",
       "<polygon fill=\"black\" stroke=\"black\" points=\"421,-130.06 425.54,-120.49 416.02,-125.14 421,-130.06\"/>\n",
       "<text text-anchor=\"middle\" x=\"415.36\" y=\"-144.8\" font-family=\"Times,serif\" font-size=\"14.00\">1.00</text>\n",
       "</g>\n",
       "<!-- x5&#45;&gt;x9 -->\n",
       "<g id=\"edge9\" class=\"edge\">\n",
       "<title>x5&#45;&gt;x9</title>\n",
       "<path fill=\"none\" stroke=\"black\" d=\"M270.98,-88.8C259.93,-75.75 243.82,-56.74 231.21,-41.85\"/>\n",
       "<polygon fill=\"black\" stroke=\"black\" points=\"233.75,-39.43 224.62,-34.06 228.41,-43.96 233.75,-39.43\"/>\n",
       "<text text-anchor=\"middle\" x=\"264.36\" y=\"-57.8\" font-family=\"Times,serif\" font-size=\"14.00\">1.00</text>\n",
       "</g>\n",
       "<!-- x8 -->\n",
       "<g id=\"node9\" class=\"node\">\n",
       "<title>x8</title>\n",
       "<ellipse fill=\"none\" stroke=\"black\" cx=\"211.86\" cy=\"-105\" rx=\"27\" ry=\"18\"/>\n",
       "<text text-anchor=\"middle\" x=\"211.86\" y=\"-101.3\" font-family=\"Times,serif\" font-size=\"14.00\">x8</text>\n",
       "</g>\n",
       "<!-- x8&#45;&gt;x9 -->\n",
       "<g id=\"edge10\" class=\"edge\">\n",
       "<title>x8&#45;&gt;x9</title>\n",
       "<path fill=\"none\" stroke=\"black\" d=\"M211.86,-86.8C211.86,-75.16 211.86,-59.55 211.86,-46.24\"/>\n",
       "<polygon fill=\"black\" stroke=\"black\" points=\"215.36,-46.18 211.86,-36.18 208.36,-46.18 215.36,-46.18\"/>\n",
       "<text text-anchor=\"middle\" x=\"224.36\" y=\"-57.8\" font-family=\"Times,serif\" font-size=\"14.00\">1.00</text>\n",
       "</g>\n",
       "</g>\n",
       "</svg>\n"
      ],
      "text/plain": [
       "<graphviz.graphs.Digraph at 0x7f91cd671e80>"
      ]
     },
     "execution_count": 91,
     "metadata": {},
     "output_type": "execute_result"
    }
   ],
   "source": [
    "# plot predict_dag and true_dag\n",
    "#GraphDAG(weighted_hierachical_dag)\n",
    "\n",
    "make_dot(weighted_hierachical_dag.transpose())"
   ]
  },
  {
   "cell_type": "code",
   "execution_count": 229,
   "metadata": {},
   "outputs": [],
   "source": [
    "df.rename(columns = {'x_5': 'X'}, inplace = True)"
   ]
  },
  {
   "cell_type": "code",
   "execution_count": 230,
   "metadata": {},
   "outputs": [],
   "source": [
    "graph_true = adj_matrix_to_nx_graph(weighted_hierachical_dag, df.columns)"
   ]
  },
  {
   "cell_type": "code",
   "execution_count": 107,
   "metadata": {
    "id": "ocEqP4jDejM1"
   },
   "outputs": [],
   "source": [
    "mb_by_mb_alg = MBbyMBAlgorithm(use_ci_oracle=False)"
   ]
  },
  {
   "cell_type": "code",
   "execution_count": 108,
   "metadata": {
    "id": "ocEqP4jDejM1"
   },
   "outputs": [],
   "source": [
    "result_mb_by_mb = mb_by_mb_alg.run(df)"
   ]
  },
  {
   "cell_type": "code",
   "execution_count": 109,
   "metadata": {},
   "outputs": [
    {
     "data": {
      "text/plain": [
       "{'tmt_parents': set(),\n",
       " 'tmt_children': {'Y'},\n",
       " 'unoriented': {'x_3', 'x_6'},\n",
       " 'non_colliders': {'Y': {'x_3', 'x_6'},\n",
       "  'x_3': {'Y', 'x_6'},\n",
       "  'x_6': {'Y', 'x_3'}}}"
      ]
     },
     "execution_count": 109,
     "metadata": {},
     "output_type": "execute_result"
    }
   ],
   "source": [
    "result_mb_by_mb"
   ]
  },
  {
   "cell_type": "code",
   "execution_count": 110,
   "metadata": {
    "id": "ocEqP4jDejM1"
   },
   "outputs": [
    {
     "name": "stdout",
     "output_type": "stream",
     "text": [
      "Total CI tests done: 159\n",
      "Estimated ATE set: {1.1736920539434021, 1.3149972901058438, 1.1666774949299903}\n"
     ]
    }
   ],
   "source": [
    "print(\"Total CI tests done: %d\" % mb_by_mb_alg.ci_test_calls[\"total\"])\n",
    "print(\"Estimated ATE set: %s\" % str(\n",
    "    set(get_ATE_using_nodes_and_cov(list(df.columns),\n",
    "                                    list(result_mb_by_mb[\"tmt_parents\"]) + par,\n",
    "                                    sample_cov)\n",
    "    for par in get_all_combinations(result_mb_by_mb[\"unoriented\"], \n",
    "                                    result_mb_by_mb[\"non_colliders\"]))))"
   ]
  },
  {
   "cell_type": "code",
   "execution_count": 112,
   "metadata": {
    "id": "AhlAd4GUjgA5"
   },
   "outputs": [
    {
     "name": "stdout",
     "output_type": "stream",
     "text": [
      "Total CI tests done: 96\n",
      "Estimated ATE set: {1.1736920539434021, 1.3149972901058438, 1.1666774949299903}\n"
     ]
    }
   ],
   "source": [
    "sd_alg = SequentialDiscoveryAlgorithm(use_ci_oracle=False)\n",
    "result_sd = sd_alg.run(df)\n",
    "print(\"Total CI tests done: %d\" % sd_alg.ci_test_calls[\"total\"])\n",
    "print(\"Estimated ATE set: %s\" % str(\n",
    "    set(get_ATE_using_nodes_and_cov(list(df.columns),\n",
    "                                    list(result_sd[\"tmt_parents\"]) + par,\n",
    "                                    sample_cov)\n",
    "    for par in get_all_combinations(result_sd[\"unoriented\"], \n",
    "                                    result_sd[\"non_colliders\"]))))"
   ]
  },
  {
   "cell_type": "code",
   "execution_count": 114,
   "metadata": {},
   "outputs": [
    {
     "data": {
      "text/plain": [
       "{'tmt_parents': set(),\n",
       " 'tmt_children': {'Y'},\n",
       " 'unoriented': {'x_3', 'x_6'},\n",
       " 'non_colliders': {'Y': {'x_3', 'x_6'},\n",
       "  'x_3': {'Y', 'x_6'},\n",
       "  'x_6': {'Y', 'x_3'}}}"
      ]
     },
     "execution_count": 114,
     "metadata": {},
     "output_type": "execute_result"
    }
   ],
   "source": [
    "result_sd"
   ]
  },
  {
   "cell_type": "code",
   "execution_count": 231,
   "metadata": {
    "id": "TV5TXUenuTbq"
   },
   "outputs": [
    {
     "name": "stdout",
     "output_type": "stream",
     "text": [
      "Total CI tests done: 179\n",
      "Estimated ATE set: {0.0, 1.3149972901058438, 1.4680984133230424}\n"
     ]
    }
   ],
   "source": [
    "ldecc_alg = LDECCAlgorithm(use_ci_oracle=False, ldecc_do_checks=True)\n",
    "result_ldecc = ldecc_alg.run(df)\n",
    "print(\"Total CI tests done: %d\" % ldecc_alg.ci_test_calls[\"total\"])\n",
    "print(\"Estimated ATE set: %s\" % str(\n",
    "    set(get_ATE_using_nodes_and_cov(list(df.columns),\n",
    "                                    list(result_ldecc[\"tmt_parents\"]) + par,\n",
    "                                    sample_cov)\n",
    "    for par in get_all_combinations(result_ldecc[\"unoriented\"], \n",
    "                                    result_ldecc[\"non_colliders\"]))))"
   ]
  },
  {
   "cell_type": "code",
   "execution_count": 115,
   "metadata": {},
   "outputs": [
    {
     "data": {
      "text/plain": [
       "{'tmt_parents': set(),\n",
       " 'tmt_children': {'Y'},\n",
       " 'unoriented': {'x_3', 'x_6'},\n",
       " 'non_colliders': {'Y': {'x_3', 'x_6'},\n",
       "  'x_3': {'Y', 'x_6'},\n",
       "  'x_6': {'Y', 'x_3'}}}"
      ]
     },
     "execution_count": 115,
     "metadata": {},
     "output_type": "execute_result"
    }
   ],
   "source": [
    "result_ldecc"
   ]
  },
  {
   "cell_type": "code",
   "execution_count": null,
   "metadata": {},
   "outputs": [],
   "source": [
    "get_ATE_using_nodes_and_cov(list(data.columns), tmt_par + par, sample_cov)\n",
    "               for par in get_all_combinations(result_ldecc[\"unoriented\"], result_ldecc[\"non_colliders\"])"
   ]
  },
  {
   "cell_type": "code",
   "execution_count": 210,
   "metadata": {},
   "outputs": [],
   "source": [
    "def get_subgraph_from_estimate(df, estimate) -> list:\n",
    "\n",
    "    parents = [list(estimate['tmt_parents']) + par for par in get_all_combinations(estimate[\"unoriented\"], estimate[\"non_colliders\"])]\n",
    "    label_to_idx = {j: i for i, j in enumerate(df.columns)}\n",
    "    return [get_subgraph(df.shape[1], label_to_idx['X'], [label_to_idx[l] for l in par]) for par in parents]\n"
   ]
  },
  {
   "cell_type": "code",
   "execution_count": 232,
   "metadata": {},
   "outputs": [],
   "source": [
    "t = get_subgraph_from_estimate(df, result_ldecc)"
   ]
  },
  {
   "cell_type": "code",
   "execution_count": 233,
   "metadata": {},
   "outputs": [
    {
     "data": {
      "text/plain": [
       "[array([[0., 0., 0., 0., 0., 0., 0., 0., 0., 0.],\n",
       "        [0., 0., 0., 0., 0., 0., 0., 0., 0., 0.],\n",
       "        [0., 0., 0., 0., 0., 0., 0., 0., 0., 0.],\n",
       "        [0., 0., 0., 0., 0., 0., 0., 0., 0., 0.],\n",
       "        [0., 0., 0., 0., 0., 0., 0., 0., 0., 0.],\n",
       "        [0., 0., 0., 0., 0., 0., 0., 0., 0., 0.],\n",
       "        [0., 0., 0., 0., 0., 0., 0., 0., 0., 0.],\n",
       "        [0., 0., 0., 0., 0., 0., 0., 0., 0., 0.],\n",
       "        [0., 0., 0., 0., 0., 0., 0., 0., 0., 0.],\n",
       "        [0., 0., 0., 0., 0., 0., 0., 0., 0., 0.]]),\n",
       " array([[0., 0., 0., 0., 0., 0., 0., 0., 0., 0.],\n",
       "        [0., 0., 0., 0., 0., 0., 0., 0., 0., 0.],\n",
       "        [0., 0., 0., 0., 0., 0., 0., 0., 0., 0.],\n",
       "        [0., 0., 0., 0., 0., 0., 0., 0., 0., 0.],\n",
       "        [0., 0., 0., 0., 0., 0., 0., 0., 0., 0.],\n",
       "        [0., 0., 0., 0., 0., 0., 0., 0., 0., 0.],\n",
       "        [0., 0., 0., 0., 0., 0., 0., 0., 0., 0.],\n",
       "        [0., 0., 0., 0., 0., 0., 0., 0., 0., 0.],\n",
       "        [0., 0., 0., 0., 0., 0., 0., 0., 0., 0.],\n",
       "        [0., 0., 0., 0., 0., 1., 0., 0., 0., 0.]]),\n",
       " array([[0., 0., 0., 0., 0., 0., 0., 0., 0., 0.],\n",
       "        [0., 0., 0., 0., 0., 0., 0., 0., 0., 0.],\n",
       "        [0., 0., 0., 0., 0., 1., 0., 0., 0., 0.],\n",
       "        [0., 0., 0., 0., 0., 0., 0., 0., 0., 0.],\n",
       "        [0., 0., 0., 0., 0., 0., 0., 0., 0., 0.],\n",
       "        [0., 0., 0., 0., 0., 0., 0., 0., 0., 0.],\n",
       "        [0., 0., 0., 0., 0., 0., 0., 0., 0., 0.],\n",
       "        [0., 0., 0., 0., 0., 0., 0., 0., 0., 0.],\n",
       "        [0., 0., 0., 0., 0., 0., 0., 0., 0., 0.],\n",
       "        [0., 0., 0., 0., 0., 0., 0., 0., 0., 0.]])]"
      ]
     },
     "execution_count": 233,
     "metadata": {},
     "output_type": "execute_result"
    }
   ],
   "source": [
    "t"
   ]
  },
  {
   "cell_type": "code",
   "execution_count": 226,
   "metadata": {},
   "outputs": [],
   "source": [
    "true_sub_graph = get_subgraph_from_graph(weighted_hierachical_dag, 5)"
   ]
  },
  {
   "cell_type": "code",
   "execution_count": 227,
   "metadata": {},
   "outputs": [
    {
     "name": "stdout",
     "output_type": "stream",
     "text": [
      "{'fdr': 1.0, 'tpr': 0.0, 'fpr': 0.0233, 'shd': 3, 'nnz': 1, 'precision': 0.0, 'recall': 0.0, 'F1': nan, 'gscore': 0.0}\n"
     ]
    },
    {
     "name": "stderr",
     "output_type": "stream",
     "text": [
      "/Users/tobiashatt/opt/anaconda3/lib/python3.9/site-packages/castle/metrics/evaluation.py:226: RuntimeWarning: invalid value encountered in double_scalars\n",
      "  F1 = 2*(recall*precision)/(recall+precision)\n"
     ]
    }
   ],
   "source": [
    "met = MetricsDAG(t[1], true_sub_graph)\n",
    "print(met.metrics)"
   ]
  },
  {
   "cell_type": "code",
   "execution_count": 225,
   "metadata": {},
   "outputs": [
    {
     "data": {
      "text/plain": [
       "array([[0., 0., 0., 0., 0., 0., 0., 0., 0., 0.],\n",
       "       [0., 0., 0., 0., 0., 0., 0., 0., 0., 0.],\n",
       "       [0., 0., 0., 0., 0., 0., 0., 0., 0., 0.],\n",
       "       [0., 0., 0., 0., 0., 0., 0., 0., 0., 0.],\n",
       "       [0., 0., 0., 0., 0., 0., 0., 0., 0., 0.],\n",
       "       [0., 0., 0., 0., 0., 0., 0., 0., 0., 0.],\n",
       "       [0., 0., 0., 0., 0., 0., 0., 0., 0., 0.],\n",
       "       [0., 0., 0., 0., 0., 0., 0., 0., 0., 0.],\n",
       "       [0., 0., 0., 0., 0., 0., 0., 0., 0., 0.],\n",
       "       [0., 0., 0., 0., 0., 0., 0., 0., 0., 0.]])"
      ]
     },
     "execution_count": 225,
     "metadata": {},
     "output_type": "execute_result"
    }
   ],
   "source": [
    "true_sub_graph"
   ]
  },
  {
   "cell_type": "code",
   "execution_count": null,
   "metadata": {},
   "outputs": [],
   "source": [
    "get_subgraph(df.shape[1], idx_treatment: int, idx_parents: list)"
   ]
  },
  {
   "cell_type": "code",
   "execution_count": 192,
   "metadata": {},
   "outputs": [],
   "source": [
    "label_to_idx = {j: i for i, j in enumerate(df.columns)}"
   ]
  },
  {
   "cell_type": "code",
   "execution_count": 198,
   "metadata": {},
   "outputs": [
    {
     "data": {
      "text/plain": [
       "[6]"
      ]
     },
     "execution_count": 198,
     "metadata": {},
     "output_type": "execute_result"
    }
   ],
   "source": [
    "[label_to_idx[l] for l in parents[1]]"
   ]
  },
  {
   "cell_type": "code",
   "execution_count": null,
   "metadata": {},
   "outputs": [],
   "source": []
  },
  {
   "cell_type": "code",
   "execution_count": null,
   "metadata": {},
   "outputs": [],
   "source": []
  },
  {
   "cell_type": "code",
   "execution_count": null,
   "metadata": {},
   "outputs": [],
   "source": []
  },
  {
   "cell_type": "code",
   "execution_count": 125,
   "metadata": {},
   "outputs": [],
   "source": [
    "cpdag_oracle = dag_to_cpdag(graph_true)"
   ]
  },
  {
   "cell_type": "code",
   "execution_count": 126,
   "metadata": {},
   "outputs": [
    {
     "data": {
      "text/plain": [
       "<networkx.classes.digraph.DiGraph at 0x7f91e9712a90>"
      ]
     },
     "execution_count": 126,
     "metadata": {},
     "output_type": "execute_result"
    }
   ],
   "source": [
    "cpdag_oracle"
   ]
  },
  {
   "cell_type": "code",
   "execution_count": 129,
   "metadata": {},
   "outputs": [],
   "source": [
    "result = []"
   ]
  },
  {
   "cell_type": "code",
   "execution_count": 132,
   "metadata": {},
   "outputs": [],
   "source": [
    "result = [get_ATE_using_cov(g, sample_cov) for g in generate_local_dags_from(cpdag_oracle)]\n",
    "#result[\"oracle\"][\"neighbors\"] = get_neighbor_types(cpdag_oracle, \"X\")                           \n",
    "\n",
    "#result[\"oracle_sample_cov\"][\"ate\"] = [get_ATE_using_cov(g, sample_cov)\n",
    " #                                   for g in generate_local_dags_from(cpdag_oracle)]"
   ]
  },
  {
   "cell_type": "code",
   "execution_count": 133,
   "metadata": {},
   "outputs": [
    {
     "data": {
      "text/plain": [
       "[-4.440892098500626e-16, -4.440892098500626e-16]"
      ]
     },
     "execution_count": 133,
     "metadata": {},
     "output_type": "execute_result"
    }
   ],
   "source": [
    "result"
   ]
  },
  {
   "cell_type": "code",
   "execution_count": 134,
   "metadata": {},
   "outputs": [
    {
     "ename": "NameError",
     "evalue": "name 'pc' is not defined",
     "output_type": "error",
     "traceback": [
      "\u001b[0;31m---------------------------------------------------------------------------\u001b[0m",
      "\u001b[0;31mNameError\u001b[0m                                 Traceback (most recent call last)",
      "\u001b[0;32m/var/folders/fl/jzhwxpx908j239ywn4chx7x80000gn/T/ipykernel_9176/1715994338.py\u001b[0m in \u001b[0;36m<module>\u001b[0;34m\u001b[0m\n\u001b[0;32m----> 1\u001b[0;31m \u001b[0mmet\u001b[0m \u001b[0;34m=\u001b[0m \u001b[0mMetricsDAG\u001b[0m\u001b[0;34m(\u001b[0m\u001b[0mpc\u001b[0m\u001b[0;34m.\u001b[0m\u001b[0mcausal_matrix\u001b[0m\u001b[0;34m,\u001b[0m \u001b[0mtrue_dag\u001b[0m\u001b[0;34m)\u001b[0m\u001b[0;34m\u001b[0m\u001b[0;34m\u001b[0m\u001b[0m\n\u001b[0m\u001b[1;32m      2\u001b[0m \u001b[0mprint\u001b[0m\u001b[0;34m(\u001b[0m\u001b[0mmet\u001b[0m\u001b[0;34m.\u001b[0m\u001b[0mmetrics\u001b[0m\u001b[0;34m)\u001b[0m\u001b[0;34m\u001b[0m\u001b[0;34m\u001b[0m\u001b[0m\n",
      "\u001b[0;31mNameError\u001b[0m: name 'pc' is not defined"
     ]
    }
   ],
   "source": [
    "met = MetricsDAG(pc.causal_matrix, true_dag)\n",
    "print(met.metrics)"
   ]
  },
  {
   "cell_type": "code",
   "execution_count": 136,
   "metadata": {},
   "outputs": [],
   "source": [
    "true_dag = dataset.B"
   ]
  },
  {
   "cell_type": "code",
   "execution_count": 138,
   "metadata": {},
   "outputs": [
    {
     "data": {
      "text/plain": [
       "array([[0, 0, 0, 1, 0, 1, 1, 0, 0, 1],\n",
       "       [0, 0, 0, 0, 0, 0, 0, 1, 0, 0],\n",
       "       [0, 0, 0, 0, 1, 1, 0, 1, 0, 0],\n",
       "       [0, 0, 0, 0, 0, 0, 0, 0, 0, 0],\n",
       "       [0, 0, 0, 0, 0, 0, 0, 0, 0, 0],\n",
       "       [0, 0, 0, 0, 0, 0, 0, 0, 0, 1],\n",
       "       [0, 0, 0, 0, 0, 0, 0, 0, 0, 0],\n",
       "       [0, 0, 0, 0, 0, 0, 0, 0, 0, 0],\n",
       "       [0, 0, 0, 0, 0, 0, 0, 0, 0, 1],\n",
       "       [0, 0, 0, 0, 0, 0, 0, 0, 0, 0]])"
      ]
     },
     "execution_count": 138,
     "metadata": {},
     "output_type": "execute_result"
    }
   ],
   "source": [
    "true_dag"
   ]
  },
  {
   "cell_type": "code",
   "execution_count": null,
   "metadata": {},
   "outputs": [],
   "source": []
  },
  {
   "cell_type": "code",
   "execution_count": null,
   "metadata": {},
   "outputs": [],
   "source": []
  },
  {
   "cell_type": "code",
   "execution_count": null,
   "metadata": {},
   "outputs": [],
   "source": []
  },
  {
   "cell_type": "code",
   "execution_count": 26,
   "metadata": {
    "id": "R74t7mjIfRDj"
   },
   "outputs": [],
   "source": [
    "import ipyparallel as ipp"
   ]
  },
  {
   "cell_type": "code",
   "execution_count": 27,
   "metadata": {
    "id": "dsMrRbQdhDnY"
   },
   "outputs": [
    {
     "name": "stdout",
     "output_type": "stream",
     "text": [
      "Waiting for connection file: ~/.ipython/profile_default/security/ipcontroller-client.json\n"
     ]
    },
    {
     "ename": "OSError",
     "evalue": "Connection file '~/.ipython/profile_default/security/ipcontroller-client.json' not found.\nYou have attempted to connect to an IPython Cluster but no Controller could be found.\nPlease double-check your configuration and ensure that a cluster is running.",
     "output_type": "error",
     "traceback": [
      "\u001b[0;31m---------------------------------------------------------------------------\u001b[0m",
      "\u001b[0;31mOSError\u001b[0m                                   Traceback (most recent call last)",
      "\u001b[0;32m/var/folders/fl/jzhwxpx908j239ywn4chx7x80000gn/T/ipykernel_9176/649999370.py\u001b[0m in \u001b[0;36m<module>\u001b[0;34m\u001b[0m\n\u001b[1;32m      1\u001b[0m \u001b[0;31m# Verify that ipcluster is running and import the necessary Python packages.\u001b[0m\u001b[0;34m\u001b[0m\u001b[0;34m\u001b[0m\u001b[0m\n\u001b[1;32m      2\u001b[0m \u001b[0;34m\u001b[0m\u001b[0m\n\u001b[0;32m----> 3\u001b[0;31m \u001b[0mparallel_client\u001b[0m \u001b[0;34m=\u001b[0m \u001b[0mipp\u001b[0m\u001b[0;34m.\u001b[0m\u001b[0mClient\u001b[0m\u001b[0;34m(\u001b[0m\u001b[0mdebug\u001b[0m\u001b[0;34m=\u001b[0m\u001b[0;32mFalse\u001b[0m\u001b[0;34m)\u001b[0m\u001b[0;34m\u001b[0m\u001b[0;34m\u001b[0m\u001b[0m\n\u001b[0m\u001b[1;32m      4\u001b[0m \u001b[0mdview\u001b[0m \u001b[0;34m=\u001b[0m \u001b[0mparallel_client\u001b[0m\u001b[0;34m[\u001b[0m\u001b[0;34m:\u001b[0m\u001b[0;34m]\u001b[0m\u001b[0;34m\u001b[0m\u001b[0;34m\u001b[0m\u001b[0m\n\u001b[1;32m      5\u001b[0m \u001b[0;31m# Execute an identity map in parallel.\u001b[0m\u001b[0;34m\u001b[0m\u001b[0;34m\u001b[0m\u001b[0m\n",
      "\u001b[0;32m~/opt/anaconda3/lib/python3.9/site-packages/ipyparallel/client/client.py\u001b[0m in \u001b[0;36m__init__\u001b[0;34m(self, connection_info, url_file, profile, profile_dir, ipython_dir, context, debug, sshserver, sshkey, password, paramiko, timeout, cluster_id, cluster, **extra_args)\u001b[0m\n\u001b[1;32m    451\u001b[0m             \u001b[0;32mif\u001b[0m \u001b[0;32mnot\u001b[0m \u001b[0mos\u001b[0m\u001b[0;34m.\u001b[0m\u001b[0mpath\u001b[0m\u001b[0;34m.\u001b[0m\u001b[0mexists\u001b[0m\u001b[0;34m(\u001b[0m\u001b[0mconnection_file\u001b[0m\u001b[0;34m)\u001b[0m\u001b[0;34m:\u001b[0m\u001b[0;34m\u001b[0m\u001b[0;34m\u001b[0m\u001b[0m\n\u001b[1;32m    452\u001b[0m                 \u001b[0mmsg\u001b[0m \u001b[0;34m=\u001b[0m \u001b[0;34m'\\n'\u001b[0m\u001b[0;34m.\u001b[0m\u001b[0mjoin\u001b[0m\u001b[0;34m(\u001b[0m\u001b[0;34m[\u001b[0m\u001b[0;34mf\"Connection file {short!r} not found.\"\u001b[0m\u001b[0;34m,\u001b[0m \u001b[0mno_file_msg\u001b[0m\u001b[0;34m]\u001b[0m\u001b[0;34m)\u001b[0m\u001b[0;34m\u001b[0m\u001b[0;34m\u001b[0m\u001b[0m\n\u001b[0;32m--> 453\u001b[0;31m                 \u001b[0;32mraise\u001b[0m \u001b[0mOSError\u001b[0m\u001b[0;34m(\u001b[0m\u001b[0mmsg\u001b[0m\u001b[0;34m)\u001b[0m\u001b[0;34m\u001b[0m\u001b[0;34m\u001b[0m\u001b[0m\n\u001b[0m\u001b[1;32m    454\u001b[0m \u001b[0;34m\u001b[0m\u001b[0m\n\u001b[1;32m    455\u001b[0m             \u001b[0;32mwith\u001b[0m \u001b[0mopen\u001b[0m\u001b[0;34m(\u001b[0m\u001b[0mconnection_file\u001b[0m\u001b[0;34m)\u001b[0m \u001b[0;32mas\u001b[0m \u001b[0mf\u001b[0m\u001b[0;34m:\u001b[0m\u001b[0;34m\u001b[0m\u001b[0;34m\u001b[0m\u001b[0m\n",
      "\u001b[0;31mOSError\u001b[0m: Connection file '~/.ipython/profile_default/security/ipcontroller-client.json' not found.\nYou have attempted to connect to an IPython Cluster but no Controller could be found.\nPlease double-check your configuration and ensure that a cluster is running."
     ]
    }
   ],
   "source": [
    "# Verify that ipcluster is running and import the necessary Python packages.\n",
    "\n",
    "parallel_client = ipp.Client(debug=False)\n",
    "dview = parallel_client[:]\n",
    "# Execute an identity map in parallel.\n",
    "ar = dview.map(lambda x: x, (i for i in range(0, 20000, 2)))\n",
    "assert ar.get()[0] == 0\n",
    "\n",
    "# Import the required Python packages.\n",
    "with dview.sync_imports():\n",
    "  import numpy\n",
    "  import os\n",
    "  import pandas\n",
    "  import networkx\n",
    "  from itertools import combinations, permutations\n",
    "  import logging\n",
    "  from causallearn.utils.cit import CIT\n",
    "  import collections\n",
    "  import copy\n",
    "  import ipyparallel\n",
    "\n",
    "  from causal_discovery.utils import orient_colliders, get_dataset, get_connected_component_with_node, remove_directed_only_edges, apply_meek_rules, adj_matrix_to_nx_graph, dag_to_cpdag, get_neighbor_types, get_all_combinations, get_ATE_using_nodes_and_cov, get_ATE_using_cov, generate_local_dags_from, to_dict    \n",
    "  from causal_discovery.pc_alg import PCAlgorithm\n",
    "  from causal_discovery.mb_by_mb import MBbyMBAlgorithm\n",
    "  from causal_discovery.sd_alg import SequentialDiscoveryAlgorithm\n",
    "  from causal_discovery.ldecc import LDECCAlgorithm\n",
    "  \n",
    "  try:\n",
    "    from cPickle import dumps, loads, HIGHEST_PROTOCOL as PICKLE_PROTOCOL\n",
    "  except ImportError:\n",
    "    from pickle import dumps, loads, HIGHEST_PROTOCOL as PICKLE_PROTOCOL\n",
    "\n",
    "# Make sure ipyparallel is still able to execute functions.\n",
    "dview = parallel_client[:]\n",
    "ar = dview.map(lambda x: x, (i for i in range(0, 20000, 2)))\n",
    "assert ar.get()[0] == 0"
   ]
  },
  {
   "cell_type": "code",
   "execution_count": 40,
   "metadata": {
    "id": "mMjn9PkChGOp"
   },
   "outputs": [],
   "source": [
    "def execute_iteration(params, num_samples, seed, progress_log_filepath=None):\n",
    "  np = numpy\n",
    "  nx = networkx\n",
    "  \n",
    "  # linearly scale down alpha.\n",
    "  alpha = (32000 / num_samples) * 0.01\n",
    "\n",
    "  MAX_TESTS = 7000\n",
    "  \n",
    "  result = {\n",
    "      \"graph_true_sample_cov_ate\": None,\n",
    "      \"oracle\": {\n",
    "          \"ate\": None,\n",
    "          \"neighbors\": None,\n",
    "      },\n",
    "      \"oracle_sample_cov\": {\n",
    "          \"ate\": None,\n",
    "      },\n",
    "      \"ldecc\": {\n",
    "          \"ci_tests\": None,\n",
    "          \"ate\": None,\n",
    "          \"neighbors\": None,\n",
    "      },\n",
    "      \"ldecc-checks\": {\n",
    "          \"ci_tests\": None,\n",
    "          \"ate\": None,\n",
    "          \"neighbors\": None,\n",
    "      },\n",
    "      \"mb-by-mb\": {\n",
    "          \"ci_tests\": None,\n",
    "          \"ate\": None,\n",
    "          \"neighbors\": None,\n",
    "      },\n",
    "      \"sd-alg\": {\n",
    "          \"ci_tests\": None,\n",
    "          \"ate\": None,\n",
    "          \"neighbors\": None,\n",
    "      },\n",
    "  }\n",
    "\n",
    "  G_weighted, G_std, node_names, graph_name, cov_matrix = params\n",
    "  graph_true = adj_matrix_to_nx_graph(G_weighted, node_names)\n",
    "  graph_true = nx.relabel_nodes(graph_true, {\n",
    "      graph_to_tmt_outcome[graph_name][\"treatment\"]: \"X\",\n",
    "      graph_to_tmt_outcome[graph_name][\"outcome\"]: \"Y\"\n",
    "  })\n",
    "  data = get_dataset(G_weighted, np.diag(G_std)**2, num_samples, \n",
    "                     list(graph_true.nodes()))\n",
    "  sample_cov = data.cov().values\n",
    "\n",
    "  result[\"graph_true_sample_cov_ate\"] = get_ATE_using_cov(graph_true, sample_cov)\n",
    "\n",
    "  cpdag_oracle = dag_to_cpdag(graph_true)\n",
    "  result[\"oracle\"][\"ate\"] = [get_ATE_using_cov(g, cov_matrix) \n",
    "                             for g in generate_local_dags_from(cpdag_oracle)]\n",
    "  result[\"oracle\"][\"neighbors\"] = get_neighbor_types(cpdag_oracle, \"X\")                           \n",
    "  \n",
    "  result[\"oracle_sample_cov\"][\"ate\"] = [get_ATE_using_cov(g, sample_cov)\n",
    "                                        for g in generate_local_dags_from(cpdag_oracle)]\n",
    "  \n",
    "  ldecc_alg = LDECCAlgorithm(use_ci_oracle=False, alpha=alpha,\n",
    "                             ldecc_do_checks=False, max_tests=MAX_TESTS)\n",
    "  result_ldecc = ldecc_alg.run(data)\n",
    "  result[\"ldecc\"][\"ci_tests\"] = to_dict(ldecc_alg.ci_test_calls)\n",
    "  result[\"ldecc\"][\"neighbors\"] = {\n",
    "      \"parents\": result_ldecc[\"tmt_parents\"],\n",
    "      \"children\": result_ldecc[\"tmt_children\"],\n",
    "      \"unoriented\": result_ldecc[\"unoriented\"], \n",
    "  }\n",
    "  tmt_par = list(result_ldecc[\"tmt_parents\"])\n",
    "  ate_ldecc = [get_ATE_using_nodes_and_cov(list(data.columns), tmt_par + par, sample_cov)\n",
    "               for par in get_all_combinations(result_ldecc[\"unoriented\"], result_ldecc[\"non_colliders\"])]\n",
    "  result[\"ldecc\"][\"ate\"] = ate_ldecc\n",
    "\n",
    "  ldecc_alg = LDECCAlgorithm(use_ci_oracle=False, alpha=alpha,\n",
    "                             ldecc_do_checks=True, max_tests=MAX_TESTS)\n",
    "  result_ldecc = ldecc_alg.run(data)\n",
    "  result[\"ldecc-checks\"][\"ci_tests\"] = to_dict(ldecc_alg.ci_test_calls)\n",
    "  result[\"ldecc-checks\"][\"neighbors\"] = {\n",
    "      \"parents\": result_ldecc[\"tmt_parents\"],\n",
    "      \"children\": result_ldecc[\"tmt_children\"],\n",
    "      \"unoriented\": result_ldecc[\"unoriented\"], \n",
    "  }\n",
    "  tmt_par = list(result_ldecc[\"tmt_parents\"])\n",
    "  ate_ldecc = [get_ATE_using_nodes_and_cov(list(data.columns), tmt_par + par, sample_cov)\n",
    "               for par in get_all_combinations(result_ldecc[\"unoriented\"], result_ldecc[\"non_colliders\"])]\n",
    "  result[\"ldecc-checks\"][\"ate\"] = ate_ldecc\n",
    "\n",
    "  mb_by_mb_alg = MBbyMBAlgorithm(use_ci_oracle=False, alpha=alpha, \n",
    "                                 max_tests=MAX_TESTS)\n",
    "  result_mb = mb_by_mb_alg.run(data)\n",
    "  result[\"mb-by-mb\"][\"ci_tests\"] = to_dict(mb_by_mb_alg.ci_test_calls)\n",
    "  result[\"mb-by-mb\"][\"neighbors\"] = {\n",
    "      \"parents\": result_mb[\"tmt_parents\"],\n",
    "      \"children\": result_mb[\"tmt_children\"],\n",
    "      \"unoriented\": result_mb[\"unoriented\"], \n",
    "  }\n",
    "  tmt_par = list(result_mb[\"tmt_parents\"])\n",
    "  ate_mb = [get_ATE_using_nodes_and_cov(list(data.columns), tmt_par + par, sample_cov)\n",
    "            for par in get_all_combinations(result_mb[\"unoriented\"], result_mb[\"non_colliders\"])]\n",
    "  result[\"mb-by-mb\"][\"ate\"] = ate_mb\n",
    "\n",
    "  sd_alg = SequentialDiscoveryAlgorithm(use_ci_oracle=False, alpha=alpha,\n",
    "                                        max_tests=MAX_TESTS)\n",
    "  result_sd = sd_alg.run(data)\n",
    "  result[\"sd-alg\"][\"ci_tests\"] = to_dict(sd_alg.ci_test_calls)\n",
    "  result[\"sd-alg\"][\"neighbors\"] = {\n",
    "      \"parents\": result_sd[\"tmt_parents\"],\n",
    "      \"children\": result_sd[\"tmt_children\"],\n",
    "      \"unoriented\": result_sd[\"unoriented\"], \n",
    "  }\n",
    "  tmt_par = list(result_sd[\"tmt_parents\"])\n",
    "  ate_sd = [get_ATE_using_nodes_and_cov(list(data.columns), tmt_par + par, sample_cov)\n",
    "            for par in get_all_combinations(result_sd[\"unoriented\"], result_sd[\"non_colliders\"])]\n",
    "  result[\"sd-alg\"][\"ate\"] = ate_sd\n",
    "  \n",
    "  if progress_log_filepath is not None:\n",
    "    os.system(\"echo '%d' >> %s\" % (seed, progress_log_filepath))\n",
    "\n",
    "  np.random.seed(None)\n",
    "  return result"
   ]
  },
  {
   "cell_type": "code",
   "execution_count": 41,
   "metadata": {
    "id": "7ii8I2ZPlWYh"
   },
   "outputs": [],
   "source": [
    "def async_results_to_results(async_results, results):\n",
    "  for N, ar in zip(results[\"sample_sizes\"], async_results):\n",
    "    if N not in results:\n",
    "      results[N] = []\n",
    "    for r in ar.get():\n",
    "      results[N].append(r)\n",
    "  return results\n",
    "\n",
    "def execute_estimation_in_parallel(results, start_graph, end_graph, iters_per_graph=1):\n",
    "\n",
    "  num_threads = len(parallel_client.ids)\n",
    "  dview = parallel_client[:]\n",
    "\n",
    "  num_graphs = end_graph - start_graph\n",
    "  print(\"Executing %d iterations across %d engines\" % (\n",
    "      num_graphs*iters_per_graph, num_threads))\n",
    "\n",
    "  dview[\"get_dataset\"] = get_dataset\n",
    "  dview[\"graph_to_tmt_outcome\"] = graph_to_tmt_outcome\n",
    "  dview[\"get_noise_matrix\"] = get_noise_matrix\n",
    "  dview[\"execute_iteration\"] = execute_iteration\n",
    "\n",
    "  graph_name = \"magic-niab\"\n",
    "  \n",
    "  G_weighted, G_std, node_names = get_bnlearn_graph_params(graph_name)\n",
    "  cov_matrix = get_cov_matrix(G_weighted, G_std)\n",
    "  params = (G_weighted, G_std, node_names, graph_name, cov_matrix)\n",
    "  graph_true = adj_matrix_to_nx_graph(G_weighted, node_names)\n",
    "  graph_true = nx.relabel_nodes(graph_true, {\n",
    "      graph_to_tmt_outcome[graph_name][\"treatment\"]: \"X\",\n",
    "      graph_to_tmt_outcome[graph_name][\"outcome\"]: \"Y\"\n",
    "  })\n",
    "\n",
    "  # RANDOM_SEED = 716697\n",
    "  # np.random.seed(RANDOM_SEED)\n",
    "  new_param_list = []\n",
    "  for _ in range(start_graph, end_graph):\n",
    "\n",
    "    for graph_iter in range(iters_per_graph):\n",
    "      new_param_list.append(params)\n",
    "      results[\"params\"].append(params)\n",
    "      results[\"ground_truth_ate\"].append(get_ATE_using_cov(graph_true, cov_matrix))\n",
    "      \n",
    "  sample_sizes = [8000, 16000, 24000, 32000]\n",
    "  results[\"sample_sizes\"] = sample_sizes\n",
    "  async_results = []\n",
    "  for N in sample_sizes:\n",
    "    print(\"%s: Starting iterations %d for N=%d\" % (\n",
    "        str(datetime.now()), len(new_param_list), N))\n",
    "    \n",
    "    def execute_estimation_iteration(i):\n",
    "      return execute_iteration(new_param_list[i], N, (RANDOM_SEED + N + i))\n",
    "    \n",
    "    async_result = dview.map(execute_estimation_iteration, range(len(new_param_list)))\n",
    "    async_results.append(async_result)\n",
    "\n",
    "  np.random.seed(None)\n",
    "  return results, async_results"
   ]
  },
  {
   "cell_type": "code",
   "execution_count": 42,
   "metadata": {
    "id": "rvMPJwZfodBA"
   },
   "outputs": [
    {
     "ename": "NameError",
     "evalue": "name 'parallel_client' is not defined",
     "output_type": "error",
     "traceback": [
      "\u001b[0;31m---------------------------------------------------------------------------\u001b[0m",
      "\u001b[0;31mNameError\u001b[0m                                 Traceback (most recent call last)",
      "\u001b[0;32m/var/folders/fl/jzhwxpx908j239ywn4chx7x80000gn/T/ipykernel_9176/2574267353.py\u001b[0m in \u001b[0;36m<module>\u001b[0;34m\u001b[0m\n\u001b[1;32m      5\u001b[0m })\n\u001b[1;32m      6\u001b[0m \u001b[0;34m\u001b[0m\u001b[0m\n\u001b[0;32m----> 7\u001b[0;31m results, async_results = execute_estimation_in_parallel(results, \n\u001b[0m\u001b[1;32m      8\u001b[0m                                                         \u001b[0mstart_graph\u001b[0m\u001b[0;34m=\u001b[0m\u001b[0;36m0\u001b[0m\u001b[0;34m,\u001b[0m\u001b[0;34m\u001b[0m\u001b[0;34m\u001b[0m\u001b[0m\n\u001b[1;32m      9\u001b[0m                                                         \u001b[0mend_graph\u001b[0m\u001b[0;34m=\u001b[0m\u001b[0;36m100\u001b[0m\u001b[0;34m,\u001b[0m\u001b[0;34m\u001b[0m\u001b[0;34m\u001b[0m\u001b[0m\n",
      "\u001b[0;32m/var/folders/fl/jzhwxpx908j239ywn4chx7x80000gn/T/ipykernel_9176/431150992.py\u001b[0m in \u001b[0;36mexecute_estimation_in_parallel\u001b[0;34m(results, start_graph, end_graph, iters_per_graph)\u001b[0m\n\u001b[1;32m      9\u001b[0m \u001b[0;32mdef\u001b[0m \u001b[0mexecute_estimation_in_parallel\u001b[0m\u001b[0;34m(\u001b[0m\u001b[0mresults\u001b[0m\u001b[0;34m,\u001b[0m \u001b[0mstart_graph\u001b[0m\u001b[0;34m,\u001b[0m \u001b[0mend_graph\u001b[0m\u001b[0;34m,\u001b[0m \u001b[0miters_per_graph\u001b[0m\u001b[0;34m=\u001b[0m\u001b[0;36m1\u001b[0m\u001b[0;34m)\u001b[0m\u001b[0;34m:\u001b[0m\u001b[0;34m\u001b[0m\u001b[0;34m\u001b[0m\u001b[0m\n\u001b[1;32m     10\u001b[0m \u001b[0;34m\u001b[0m\u001b[0m\n\u001b[0;32m---> 11\u001b[0;31m   \u001b[0mnum_threads\u001b[0m \u001b[0;34m=\u001b[0m \u001b[0mlen\u001b[0m\u001b[0;34m(\u001b[0m\u001b[0mparallel_client\u001b[0m\u001b[0;34m.\u001b[0m\u001b[0mids\u001b[0m\u001b[0;34m)\u001b[0m\u001b[0;34m\u001b[0m\u001b[0;34m\u001b[0m\u001b[0m\n\u001b[0m\u001b[1;32m     12\u001b[0m   \u001b[0mdview\u001b[0m \u001b[0;34m=\u001b[0m \u001b[0mparallel_client\u001b[0m\u001b[0;34m[\u001b[0m\u001b[0;34m:\u001b[0m\u001b[0;34m]\u001b[0m\u001b[0;34m\u001b[0m\u001b[0;34m\u001b[0m\u001b[0m\n\u001b[1;32m     13\u001b[0m \u001b[0;34m\u001b[0m\u001b[0m\n",
      "\u001b[0;31mNameError\u001b[0m: name 'parallel_client' is not defined"
     ]
    }
   ],
   "source": [
    "results = {}\n",
    "results.update({\n",
    "    \"params\": [],\n",
    "    \"ground_truth_ate\": [],\n",
    "})\n",
    "\n",
    "results, async_results = execute_estimation_in_parallel(results, \n",
    "                                                        start_graph=0,\n",
    "                                                        end_graph=100,\n",
    "                                                        iters_per_graph=1)"
   ]
  },
  {
   "cell_type": "code",
   "execution_count": 43,
   "metadata": {
    "id": "Vfbe49lusOGd"
   },
   "outputs": [
    {
     "ename": "NameError",
     "evalue": "name 'async_results' is not defined",
     "output_type": "error",
     "traceback": [
      "\u001b[0;31m---------------------------------------------------------------------------\u001b[0m",
      "\u001b[0;31mNameError\u001b[0m                                 Traceback (most recent call last)",
      "\u001b[0;32m/var/folders/fl/jzhwxpx908j239ywn4chx7x80000gn/T/ipykernel_9176/3530615560.py\u001b[0m in \u001b[0;36m<module>\u001b[0;34m\u001b[0m\n\u001b[1;32m      1\u001b[0m \u001b[0;31m# Monitor progress of the tasks.\u001b[0m\u001b[0;34m\u001b[0m\u001b[0;34m\u001b[0m\u001b[0m\n\u001b[0;32m----> 2\u001b[0;31m \u001b[0;32mfor\u001b[0m \u001b[0mar\u001b[0m \u001b[0;32min\u001b[0m \u001b[0masync_results\u001b[0m\u001b[0;34m:\u001b[0m\u001b[0;34m\u001b[0m\u001b[0;34m\u001b[0m\u001b[0m\n\u001b[0m\u001b[1;32m      3\u001b[0m   \u001b[0mar\u001b[0m\u001b[0;34m.\u001b[0m\u001b[0mwait_interactive\u001b[0m\u001b[0;34m(\u001b[0m\u001b[0mtimeout\u001b[0m\u001b[0;34m=\u001b[0m\u001b[0;36m1\u001b[0m\u001b[0;34m)\u001b[0m\u001b[0;34m\u001b[0m\u001b[0;34m\u001b[0m\u001b[0m\n",
      "\u001b[0;31mNameError\u001b[0m: name 'async_results' is not defined"
     ]
    }
   ],
   "source": [
    "# Monitor progress of the tasks.\n",
    "for ar in async_results:\n",
    "  ar.wait_interactive(timeout=1)"
   ]
  },
  {
   "cell_type": "code",
   "execution_count": 45,
   "metadata": {
    "id": "Fg8iX-g7sYBv"
   },
   "outputs": [
    {
     "ename": "NameError",
     "evalue": "name 'async_results' is not defined",
     "output_type": "error",
     "traceback": [
      "\u001b[0;31m---------------------------------------------------------------------------\u001b[0m",
      "\u001b[0;31mNameError\u001b[0m                                 Traceback (most recent call last)",
      "\u001b[0;32m/var/folders/fl/jzhwxpx908j239ywn4chx7x80000gn/T/ipykernel_9176/251535517.py\u001b[0m in \u001b[0;36m<module>\u001b[0;34m\u001b[0m\n\u001b[0;32m----> 1\u001b[0;31m \u001b[0mresults\u001b[0m \u001b[0;34m=\u001b[0m \u001b[0masync_results_to_results\u001b[0m\u001b[0;34m(\u001b[0m\u001b[0masync_results\u001b[0m\u001b[0;34m,\u001b[0m \u001b[0mresults\u001b[0m\u001b[0;34m)\u001b[0m\u001b[0;34m\u001b[0m\u001b[0;34m\u001b[0m\u001b[0m\n\u001b[0m",
      "\u001b[0;31mNameError\u001b[0m: name 'async_results' is not defined"
     ]
    }
   ],
   "source": [
    "results = async_results_to_results(async_results, results)"
   ]
  },
  {
   "cell_type": "markdown",
   "metadata": {
    "id": "_tCCeKkT4vis"
   },
   "source": [
    "The code below plots the results."
   ]
  },
  {
   "cell_type": "code",
   "execution_count": 33,
   "metadata": {
    "id": "lDvbGe-Y1cOP"
   },
   "outputs": [],
   "source": [
    "# For the color map:\n",
    "# https://gist.github.com/AndiH/c957b4d769e628f506bd\n",
    "\n",
    "# Tableau 20 Colors\n",
    "tableau20 = [(31, 119, 180), (174, 199, 232), (255, 127, 14), (255, 187, 120),  \n",
    "             (44, 160, 44), (152, 223, 138), (214, 39, 40), (255, 152, 150),  \n",
    "             (148, 103, 189), (197, 176, 213), (140, 86, 75), (196, 156, 148),  \n",
    "             (227, 119, 194), (247, 182, 210), (127, 127, 127), (199, 199, 199),  \n",
    "             (188, 189, 34), (219, 219, 141), (23, 190, 207), (158, 218, 229)]\n",
    "             \n",
    "# Tableau Color Blind 10\n",
    "tableau20blind = [(0, 107, 164), (255, 128, 14), (171, 171, 171), (89, 89, 89),\n",
    "             (95, 158, 209), (200, 82, 0), (137, 137, 137), (163, 200, 236),\n",
    "             (255, 188, 121), (207, 207, 207)]\n",
    "  \n",
    "# Rescale to values between 0 and 1 \n",
    "for i in range(len(tableau20)):  \n",
    "    r, g, b = tableau20[i]  \n",
    "    tableau20[i] = (r / 255., g / 255., b / 255.)\n",
    "for i in range(len(tableau20blind)):  \n",
    "    r, g, b = tableau20blind[i]  \n",
    "    tableau20blind[i] = (r / 255., g / 255., b / 255.)"
   ]
  },
  {
   "cell_type": "code",
   "execution_count": 34,
   "metadata": {
    "id": "U9mLTMRc1kkK"
   },
   "outputs": [],
   "source": [
    "SMALL_SIZE = 8\n",
    "MEDIUM_SIZE = 8\n",
    "BIGGER_SIZE = 8\n",
    "\n",
    "plt.rc('font', size=SMALL_SIZE)          # controls default text sizes\n",
    "plt.rc('axes', titlesize=SMALL_SIZE+6)     # fontsize of the axes title\n",
    "plt.rc('axes', labelsize=MEDIUM_SIZE+6)    # fontsize of the x and y labels\n",
    "plt.rc('xtick', labelsize=SMALL_SIZE + 4)    # fontsize of the tick labels\n",
    "plt.rc('ytick', labelsize=SMALL_SIZE+4)    # fontsize of the tick labels\n",
    "plt.rc('legend', fontsize=SMALL_SIZE+2)    # legend fontsize\n",
    "plt.rc('figure', titlesize=BIGGER_SIZE+20)  # fontsize of the figure title"
   ]
  },
  {
   "cell_type": "code",
   "execution_count": 35,
   "metadata": {
    "id": "2MAKzoHd1mJj"
   },
   "outputs": [],
   "source": [
    "plot_prop = {\n",
    "    \"pc-alg\": [\"dashed\", tableau20blind[0], \"o\"],\n",
    "    \"ldecc\": [\"dashdot\", tableau20blind[1], \"^\"],\n",
    "    \"ldecc-checks\": [\"solid\", tableau20blind[5], \"s\"],\n",
    "    \"mb-by-mb\": [\"dashdot\", tableau20blind[7], \"D\"],\n",
    "    \"sd-alg\": [\"dotted\", tableau20blind[3], \"v\"],\n",
    "}"
   ]
  },
  {
   "cell_type": "code",
   "execution_count": 44,
   "metadata": {
    "id": "NmlANMMf2HlC"
   },
   "outputs": [
    {
     "ename": "KeyError",
     "evalue": "'sample_sizes'",
     "output_type": "error",
     "traceback": [
      "\u001b[0;31m---------------------------------------------------------------------------\u001b[0m",
      "\u001b[0;31mKeyError\u001b[0m                                  Traceback (most recent call last)",
      "\u001b[0;32m/var/folders/fl/jzhwxpx908j239ywn4chx7x80000gn/T/ipykernel_9176/93128090.py\u001b[0m in \u001b[0;36m<module>\u001b[0;34m\u001b[0m\n\u001b[1;32m     54\u001b[0m   \u001b[0mplt\u001b[0m\u001b[0;34m.\u001b[0m\u001b[0mshow\u001b[0m\u001b[0;34m(\u001b[0m\u001b[0;34m)\u001b[0m\u001b[0;34m\u001b[0m\u001b[0;34m\u001b[0m\u001b[0m\n\u001b[1;32m     55\u001b[0m \u001b[0;34m\u001b[0m\u001b[0m\n\u001b[0;32m---> 56\u001b[0;31m \u001b[0mplot_mse\u001b[0m\u001b[0;34m(\u001b[0m\u001b[0mresults\u001b[0m\u001b[0;34m)\u001b[0m\u001b[0;34m\u001b[0m\u001b[0;34m\u001b[0m\u001b[0m\n\u001b[0m",
      "\u001b[0;32m/var/folders/fl/jzhwxpx908j239ywn4chx7x80000gn/T/ipykernel_9176/93128090.py\u001b[0m in \u001b[0;36mplot_mse\u001b[0;34m(results)\u001b[0m\n\u001b[1;32m     14\u001b[0m \u001b[0;32mdef\u001b[0m \u001b[0mplot_mse\u001b[0m\u001b[0;34m(\u001b[0m\u001b[0mresults\u001b[0m\u001b[0;34m)\u001b[0m\u001b[0;34m:\u001b[0m\u001b[0;34m\u001b[0m\u001b[0;34m\u001b[0m\u001b[0m\n\u001b[1;32m     15\u001b[0m   \u001b[0mplt\u001b[0m\u001b[0;34m.\u001b[0m\u001b[0mfigure\u001b[0m\u001b[0;34m(\u001b[0m\u001b[0mfigsize\u001b[0m\u001b[0;34m=\u001b[0m\u001b[0;34m(\u001b[0m\u001b[0;36m6\u001b[0m\u001b[0;34m,\u001b[0m \u001b[0;36m4\u001b[0m\u001b[0;34m)\u001b[0m\u001b[0;34m)\u001b[0m\u001b[0;34m\u001b[0m\u001b[0;34m\u001b[0m\u001b[0m\n\u001b[0;32m---> 16\u001b[0;31m   \u001b[0msamples\u001b[0m \u001b[0;34m=\u001b[0m \u001b[0mresults\u001b[0m\u001b[0;34m[\u001b[0m\u001b[0;34m\"sample_sizes\"\u001b[0m\u001b[0;34m]\u001b[0m\u001b[0;34m\u001b[0m\u001b[0;34m\u001b[0m\u001b[0m\n\u001b[0m\u001b[1;32m     17\u001b[0m \u001b[0;34m\u001b[0m\u001b[0m\n\u001b[1;32m     18\u001b[0m   dict_to_name = {\n",
      "\u001b[0;31mKeyError\u001b[0m: 'sample_sizes'"
     ]
    },
    {
     "data": {
      "text/plain": [
       "<Figure size 600x400 with 0 Axes>"
      ]
     },
     "metadata": {},
     "output_type": "display_data"
    }
   ],
   "source": [
    "def get_hausdorff_distance(arr_1, arr_2):\n",
    "\n",
    "  arr_1 = np.array(arr_1)\n",
    "  arr_2 = np.array(arr_2)\n",
    "\n",
    "  def get_distance_point_from_array(point, arr):\n",
    "    return np.min(np.abs(arr - point))\n",
    "\n",
    "  dist_1_to_2 = np.max([get_distance_point_from_array(p, arr_2) for p in arr_1])\n",
    "  dist_2_to_1 = np.max([get_distance_point_from_array(p, arr_1) for p in arr_2])\n",
    "\n",
    "  return max(dist_1_to_2, dist_2_to_1)\n",
    "\n",
    "def plot_mse(results):\n",
    "  plt.figure(figsize=(6, 4))\n",
    "  samples = results[\"sample_sizes\"]\n",
    "\n",
    "  dict_to_name = {\n",
    "      'ldecc': \"LDECC\", \n",
    "      'ldecc-checks': \"LDECC-checks\",\n",
    "      'sd-alg': \"SD\",\n",
    "      'mb-by-mb': \"MB-by-MB\",\n",
    "  }\n",
    "\n",
    "  errors = collections.defaultdict(list)\n",
    "\n",
    "  for N in samples:\n",
    "    for k in dict_to_name.keys():\n",
    "      errors[k].append([])\n",
    "\n",
    "    for i, res in enumerate(results[N]):\n",
    "      for k in dict_to_name.keys():\n",
    "        errors[k][-1].append(get_hausdorff_distance(\n",
    "            res[\"oracle\"][\"ate\"], res[k][\"ate\"]\n",
    "        )**2)\n",
    "\n",
    "      \n",
    "  samples = np.array(samples)\n",
    "  mses = {}\n",
    "  stds = {}\n",
    "  for k in dict_to_name.keys():\n",
    "    errors[k] = np.array(errors[k])\n",
    "    mses[k] = np.median(errors[k], axis=-1)\n",
    "    stds[k] = np.std(errors[k], axis=-1)\n",
    "\n",
    "    plt.plot(samples, mses[k], label=dict_to_name[k],\n",
    "             color=plot_prop[k][1], linestyle=plot_prop[k][0],\n",
    "             marker=plot_prop[k][2])\n",
    "  \n",
    "  plt.title(\"Median SE vs Sample size\")\n",
    "  plt.xlabel(\"Sample size\")\n",
    "  plt.ylabel(\"Median SE (Hausdorff distance)\")\n",
    "  plt.legend()\n",
    "  plt.show()\n",
    "  \n",
    "plot_mse(results)"
   ]
  },
  {
   "cell_type": "code",
   "execution_count": 37,
   "metadata": {
    "id": "7q0qKVkeAZd8"
   },
   "outputs": [
    {
     "ename": "KeyError",
     "evalue": "'sample_sizes'",
     "output_type": "error",
     "traceback": [
      "\u001b[0;31m---------------------------------------------------------------------------\u001b[0m",
      "\u001b[0;31mKeyError\u001b[0m                                  Traceback (most recent call last)",
      "\u001b[0;32m/var/folders/fl/jzhwxpx908j239ywn4chx7x80000gn/T/ipykernel_9176/2771174452.py\u001b[0m in \u001b[0;36m<module>\u001b[0;34m\u001b[0m\n\u001b[1;32m     57\u001b[0m   \u001b[0mplt\u001b[0m\u001b[0;34m.\u001b[0m\u001b[0mshow\u001b[0m\u001b[0;34m(\u001b[0m\u001b[0;34m)\u001b[0m\u001b[0;34m\u001b[0m\u001b[0;34m\u001b[0m\u001b[0m\n\u001b[1;32m     58\u001b[0m \u001b[0;34m\u001b[0m\u001b[0m\n\u001b[0;32m---> 59\u001b[0;31m \u001b[0mplot_accuracy\u001b[0m\u001b[0;34m(\u001b[0m\u001b[0mresults\u001b[0m\u001b[0;34m)\u001b[0m\u001b[0;34m\u001b[0m\u001b[0;34m\u001b[0m\u001b[0m\n\u001b[0m",
      "\u001b[0;32m/var/folders/fl/jzhwxpx908j239ywn4chx7x80000gn/T/ipykernel_9176/2771174452.py\u001b[0m in \u001b[0;36mplot_accuracy\u001b[0;34m(results)\u001b[0m\n\u001b[1;32m     21\u001b[0m     \u001b[0;32mreturn\u001b[0m \u001b[0mpa\u001b[0m \u001b[0;34m==\u001b[0m \u001b[0mpa_or\u001b[0m \u001b[0;32mand\u001b[0m \u001b[0mch\u001b[0m \u001b[0;34m==\u001b[0m \u001b[0mch_or\u001b[0m \u001b[0;32mand\u001b[0m \u001b[0muo\u001b[0m \u001b[0;34m==\u001b[0m \u001b[0muo_or\u001b[0m\u001b[0;34m\u001b[0m\u001b[0;34m\u001b[0m\u001b[0m\n\u001b[1;32m     22\u001b[0m \u001b[0;34m\u001b[0m\u001b[0m\n\u001b[0;32m---> 23\u001b[0;31m   \u001b[0mN\u001b[0m \u001b[0;34m=\u001b[0m \u001b[0mlen\u001b[0m\u001b[0;34m(\u001b[0m\u001b[0mresults\u001b[0m\u001b[0;34m[\u001b[0m\u001b[0mresults\u001b[0m\u001b[0;34m[\u001b[0m\u001b[0;34m\"sample_sizes\"\u001b[0m\u001b[0;34m]\u001b[0m\u001b[0;34m[\u001b[0m\u001b[0;36m0\u001b[0m\u001b[0;34m]\u001b[0m\u001b[0;34m]\u001b[0m\u001b[0;34m)\u001b[0m\u001b[0;34m\u001b[0m\u001b[0;34m\u001b[0m\u001b[0m\n\u001b[0m\u001b[1;32m     24\u001b[0m   \u001b[0mprint\u001b[0m\u001b[0;34m(\u001b[0m\u001b[0;34m\"Total = %d\"\u001b[0m \u001b[0;34m%\u001b[0m \u001b[0mN\u001b[0m\u001b[0;34m)\u001b[0m\u001b[0;34m\u001b[0m\u001b[0;34m\u001b[0m\u001b[0m\n\u001b[1;32m     25\u001b[0m \u001b[0;34m\u001b[0m\u001b[0m\n",
      "\u001b[0;31mKeyError\u001b[0m: 'sample_sizes'"
     ]
    }
   ],
   "source": [
    "def plot_accuracy(results):\n",
    "\n",
    "  dict_to_name = {\n",
    "      'ldecc': \"LDECC\", \n",
    "      'ldecc-checks': \"LDECC-checks\",\n",
    "      'sd-alg': \"SD\",\n",
    "      'mb-by-mb': \"MB-by-MB\",\n",
    "  }\n",
    "\n",
    "  def get_detected_neighbors(r):\n",
    "    return r[\"neighbors\"][\"parents\"], r[\"neighbors\"][\"children\"], r[\"neighbors\"][\"unoriented\"]\n",
    "  \n",
    "  def is_locally_orientable(r):\n",
    "    return len(r[\"oracle_sample_cov\"][\"ate\"]) == 1\n",
    "\n",
    "  def is_correct_adj_set(pa, ch, uo, pa_or, ch_or, uo_or):\n",
    "\n",
    "    if uo == set() and uo == uo_or:\n",
    "      return pa == pa_or\n",
    "    \n",
    "    return pa == pa_or and ch == ch_or and uo == uo_or\n",
    "\n",
    "  N = len(results[results[\"sample_sizes\"][0]])\n",
    "  print(\"Total = %d\" % N)\n",
    "\n",
    "  incorrect_idxs_not_loc_orientable = []\n",
    "  incorrect_idxs_loc_orientable = []\n",
    "\n",
    "  same_count = collections.defaultdict(lambda: 0)\n",
    "  correct_count = collections.defaultdict(lambda: collections.defaultdict(lambda: 0))\n",
    "  correct_count_locally_orientable = collections.defaultdict(lambda: collections.defaultdict(lambda: 0))\n",
    "\n",
    "  for s in results[\"sample_sizes\"]:\n",
    "    for i in range(N):\n",
    "      parents_or, children_or, uo_or = get_detected_neighbors(results[s][i][\"oracle\"])\n",
    "      \n",
    "      for k in dict_to_name.keys():\n",
    "        parents, children, uo = get_detected_neighbors(results[s][i][k]) \n",
    "        if is_correct_adj_set(parents, children, uo, parents_or, children_or, uo_or):\n",
    "          correct_count[k][s] += 1\n",
    "        \n",
    "  plt.figure(figsize=(6, 4))\n",
    "\n",
    "  accuracy = {}\n",
    "  samples = results[\"sample_sizes\"]\n",
    "  for k in dict_to_name.keys():\n",
    "    accuracy[k] = np.array([correct_count[k][s] * 100 / N for s in samples])\n",
    "\n",
    "    plt.plot(samples, accuracy[k], label=dict_to_name[k],\n",
    "             color=plot_prop[k][1], linestyle=plot_prop[k][0],\n",
    "             marker=plot_prop[k][2])\n",
    "  \n",
    "  plt.title(\"Accuracy vs Sample size\")\n",
    "  plt.xlabel(\"Sample size\")\n",
    "  plt.ylabel(\"Accuracy (%)\")\n",
    "  plt.legend()\n",
    "  plt.show()\n",
    "\n",
    "plot_accuracy(results)"
   ]
  },
  {
   "cell_type": "code",
   "execution_count": 38,
   "metadata": {
    "id": "FOmTtLHaBBX2"
   },
   "outputs": [
    {
     "ename": "KeyError",
     "evalue": "'sample_sizes'",
     "output_type": "error",
     "traceback": [
      "\u001b[0;31m---------------------------------------------------------------------------\u001b[0m",
      "\u001b[0;31mKeyError\u001b[0m                                  Traceback (most recent call last)",
      "\u001b[0;32m/var/folders/fl/jzhwxpx908j239ywn4chx7x80000gn/T/ipykernel_9176/363632602.py\u001b[0m in \u001b[0;36m<module>\u001b[0;34m\u001b[0m\n\u001b[1;32m     36\u001b[0m   \u001b[0mplt\u001b[0m\u001b[0;34m.\u001b[0m\u001b[0mshow\u001b[0m\u001b[0;34m(\u001b[0m\u001b[0;34m)\u001b[0m\u001b[0;34m\u001b[0m\u001b[0;34m\u001b[0m\u001b[0m\n\u001b[1;32m     37\u001b[0m \u001b[0;34m\u001b[0m\u001b[0m\n\u001b[0;32m---> 38\u001b[0;31m \u001b[0mplot_recall\u001b[0m\u001b[0;34m(\u001b[0m\u001b[0mresults\u001b[0m\u001b[0;34m)\u001b[0m\u001b[0;34m\u001b[0m\u001b[0;34m\u001b[0m\u001b[0m\n\u001b[0m",
      "\u001b[0;32m/var/folders/fl/jzhwxpx908j239ywn4chx7x80000gn/T/ipykernel_9176/363632602.py\u001b[0m in \u001b[0;36mplot_recall\u001b[0;34m(results)\u001b[0m\n\u001b[1;32m      8\u001b[0m   }\n\u001b[1;32m      9\u001b[0m \u001b[0;34m\u001b[0m\u001b[0m\n\u001b[0;32m---> 10\u001b[0;31m   \u001b[0mN\u001b[0m \u001b[0;34m=\u001b[0m \u001b[0mlen\u001b[0m\u001b[0;34m(\u001b[0m\u001b[0mresults\u001b[0m\u001b[0;34m[\u001b[0m\u001b[0mresults\u001b[0m\u001b[0;34m[\u001b[0m\u001b[0;34m\"sample_sizes\"\u001b[0m\u001b[0;34m]\u001b[0m\u001b[0;34m[\u001b[0m\u001b[0;36m0\u001b[0m\u001b[0;34m]\u001b[0m\u001b[0;34m]\u001b[0m\u001b[0;34m)\u001b[0m\u001b[0;34m\u001b[0m\u001b[0;34m\u001b[0m\u001b[0m\n\u001b[0m\u001b[1;32m     11\u001b[0m \u001b[0;34m\u001b[0m\u001b[0m\n\u001b[1;32m     12\u001b[0m   \u001b[0mcorrect_count\u001b[0m \u001b[0;34m=\u001b[0m \u001b[0mcollections\u001b[0m\u001b[0;34m.\u001b[0m\u001b[0mdefaultdict\u001b[0m\u001b[0;34m(\u001b[0m\u001b[0;32mlambda\u001b[0m\u001b[0;34m:\u001b[0m \u001b[0mcollections\u001b[0m\u001b[0;34m.\u001b[0m\u001b[0mdefaultdict\u001b[0m\u001b[0;34m(\u001b[0m\u001b[0;32mlambda\u001b[0m\u001b[0;34m:\u001b[0m \u001b[0;36m0\u001b[0m\u001b[0;34m)\u001b[0m\u001b[0;34m)\u001b[0m\u001b[0;34m\u001b[0m\u001b[0;34m\u001b[0m\u001b[0m\n",
      "\u001b[0;31mKeyError\u001b[0m: 'sample_sizes'"
     ]
    }
   ],
   "source": [
    "def plot_recall(results):\n",
    "\n",
    "  dict_to_name = {\n",
    "      'ldecc': \"LDECC\", \n",
    "      'ldecc-checks': \"LDECC-checks\",\n",
    "      'sd-alg': \"SD\",\n",
    "      'mb-by-mb': \"MB-by-MB\",\n",
    "  }\n",
    "\n",
    "  N = len(results[results[\"sample_sizes\"][0]])\n",
    "  \n",
    "  correct_count = collections.defaultdict(lambda: collections.defaultdict(lambda: 0))\n",
    "  \n",
    "  for s in results[\"sample_sizes\"]:\n",
    "    for i in range(N):\n",
    "      for k in dict_to_name.keys():\n",
    "        \n",
    "        if results[s][i][\"graph_true_sample_cov_ate\"] in results[s][i][k][\"ate\"]:\n",
    "          correct_count[k][s] += 1\n",
    "  \n",
    "  plt.figure(figsize=(6, 4))\n",
    "  \n",
    "  coverage = {}\n",
    "  samples = results[\"sample_sizes\"]\n",
    "  for k in dict_to_name.keys():\n",
    "    coverage[k] = np.array([correct_count[k][s] * 100 / N for s in samples])\n",
    "\n",
    "    plt.plot(samples, coverage[k], label=dict_to_name[k],\n",
    "             color=plot_prop[k][1], linestyle=plot_prop[k][0],\n",
    "             marker=plot_prop[k][2])\n",
    "  \n",
    "  plt.title(\"Recall vs Sample size\")\n",
    "  plt.xlabel(\"Sample size\")\n",
    "  plt.ylabel(\"Recall (%)\")\n",
    "  plt.legend()\n",
    "  plt.show()\n",
    "\n",
    "plot_recall(results)"
   ]
  },
  {
   "cell_type": "code",
   "execution_count": 39,
   "metadata": {
    "id": "aDhNjpg8g_sG"
   },
   "outputs": [
    {
     "ename": "KeyError",
     "evalue": "'sample_sizes'",
     "output_type": "error",
     "traceback": [
      "\u001b[0;31m---------------------------------------------------------------------------\u001b[0m",
      "\u001b[0;31mKeyError\u001b[0m                                  Traceback (most recent call last)",
      "\u001b[0;32m/var/folders/fl/jzhwxpx908j239ywn4chx7x80000gn/T/ipykernel_9176/363207949.py\u001b[0m in \u001b[0;36m<module>\u001b[0;34m\u001b[0m\n\u001b[1;32m     30\u001b[0m   \u001b[0mplt\u001b[0m\u001b[0;34m.\u001b[0m\u001b[0mshow\u001b[0m\u001b[0;34m(\u001b[0m\u001b[0;34m)\u001b[0m\u001b[0;34m\u001b[0m\u001b[0;34m\u001b[0m\u001b[0m\n\u001b[1;32m     31\u001b[0m \u001b[0;34m\u001b[0m\u001b[0m\n\u001b[0;32m---> 32\u001b[0;31m \u001b[0mplot_number_of_tests\u001b[0m\u001b[0;34m(\u001b[0m\u001b[0mresults\u001b[0m\u001b[0;34m)\u001b[0m\u001b[0;34m\u001b[0m\u001b[0;34m\u001b[0m\u001b[0m\n\u001b[0m",
      "\u001b[0;32m/var/folders/fl/jzhwxpx908j239ywn4chx7x80000gn/T/ipykernel_9176/363207949.py\u001b[0m in \u001b[0;36mplot_number_of_tests\u001b[0;34m(results)\u001b[0m\n\u001b[1;32m     10\u001b[0m   }\n\u001b[1;32m     11\u001b[0m \u001b[0;34m\u001b[0m\u001b[0m\n\u001b[0;32m---> 12\u001b[0;31m   \u001b[0msamples\u001b[0m \u001b[0;34m=\u001b[0m \u001b[0mresults\u001b[0m\u001b[0;34m[\u001b[0m\u001b[0;34m\"sample_sizes\"\u001b[0m\u001b[0;34m]\u001b[0m\u001b[0;34m\u001b[0m\u001b[0;34m\u001b[0m\u001b[0m\n\u001b[0m\u001b[1;32m     13\u001b[0m   \u001b[0msamples\u001b[0m \u001b[0;34m=\u001b[0m \u001b[0mnp\u001b[0m\u001b[0;34m.\u001b[0m\u001b[0marray\u001b[0m\u001b[0;34m(\u001b[0m\u001b[0msamples\u001b[0m\u001b[0;34m)\u001b[0m\u001b[0;34m\u001b[0m\u001b[0;34m\u001b[0m\u001b[0m\n\u001b[1;32m     14\u001b[0m \u001b[0;34m\u001b[0m\u001b[0m\n",
      "\u001b[0;31mKeyError\u001b[0m: 'sample_sizes'"
     ]
    },
    {
     "data": {
      "text/plain": [
       "<Figure size 600x400 with 0 Axes>"
      ]
     },
     "metadata": {},
     "output_type": "display_data"
    }
   ],
   "source": [
    "def plot_number_of_tests(results):\n",
    "\n",
    "  plt.figure(figsize=(6, 4))\n",
    "\n",
    "  dict_to_name = {\n",
    "      'ldecc': \"LDECC\", \n",
    "      'ldecc-checks': \"LDECC-checks\",\n",
    "      'sd-alg': \"SD\",\n",
    "      'mb-by-mb': \"MB-by-MB\",\n",
    "  }\n",
    "\n",
    "  samples = results[\"sample_sizes\"]\n",
    "  samples = np.array(samples)\n",
    "  \n",
    "  tests_count = collections.defaultdict(lambda: collections.defaultdict(lambda: 0))\n",
    "  for k in dict_to_name.keys():\n",
    "    for s in samples:\n",
    "      tests_count[k][s] = np.mean([t[k][\"ci_tests\"][\"total\"] for t in results[s]])\n",
    "\n",
    "  for k in dict_to_name.keys():\n",
    "    plt.plot(samples, [tests_count[k][s] for s in samples], label=dict_to_name[k],\n",
    "             color=plot_prop[k][1], linestyle=plot_prop[k][0],\n",
    "             marker=plot_prop[k][2])\n",
    "\n",
    "  \n",
    "  plt.title(\"Number of CI tests\")\n",
    "  plt.xlabel(\"Sample size\")\n",
    "  plt.ylabel(\"Number of CI tests\")\n",
    "  plt.legend()\n",
    "  plt.show()\n",
    "\n",
    "plot_number_of_tests(results)"
   ]
  },
  {
   "cell_type": "markdown",
   "metadata": {
    "id": "3vokLVf55E5O"
   },
   "source": [
    "The code below plots the distribution of conditional independence (CI) tests performed with a CI oracle by SD, LDECC, and MB-by-MB by repeatedly setting each node as the treatment (for computational reasons, we cap the maximum number of tests for each node to 20000)."
   ]
  },
  {
   "cell_type": "code",
   "execution_count": 34,
   "metadata": {
    "id": "OHmW5je2CVeF"
   },
   "outputs": [],
   "source": [
    "def run_local_discovery_for_each_node(graph_true):\n",
    "\n",
    "  MAX_TESTS = 20000\n",
    "\n",
    "  node_to_tests = {}\n",
    "\n",
    "  for node in graph_true.nodes():\n",
    "    empty_df = pd.DataFrame(columns=list(graph_true.nodes()))\n",
    "\n",
    "    mb_by_mb_alg = MBbyMBAlgorithm(use_ci_oracle=True, graph_true=graph_true,\n",
    "                                   treatment_node=node, max_tests=MAX_TESTS)\n",
    "    result_mb_by_mb = mb_by_mb_alg.run(empty_df)\n",
    "\n",
    "    sd_alg = SequentialDiscoveryAlgorithm(use_ci_oracle=True, graph_true=graph_true,\n",
    "                                          treatment_node=node, max_tests=MAX_TESTS)\n",
    "    result_sd = sd_alg.run(empty_df)\n",
    "\n",
    "    ldecc_alg = LDECCAlgorithm(use_ci_oracle=True, graph_true=graph_true, \n",
    "                              treatment_node=node, outcome_node=node,\n",
    "                               max_tests=MAX_TESTS)\n",
    "    result_ldecc = ldecc_alg.run(empty_df)\n",
    "    \n",
    "    node_to_tests[node] = {\n",
    "        \"mb-by-mb\": mb_by_mb_alg.ci_test_calls[\"total\"],\n",
    "        \"ldecc\": ldecc_alg.ci_test_calls[\"total\"],\n",
    "        \"sd-alg\": sd_alg.ci_test_calls[\"total\"],\n",
    "    }\n",
    "\n",
    "    print(\"Node done: %s, Tests: %s\" % (node, node_to_tests[node]))\n",
    "  \n",
    "  return node_to_tests\n",
    "  \n",
    "node_to_tests = run_local_discovery_for_each_node(graph_true)"
   ]
  },
  {
   "cell_type": "code",
   "execution_count": null,
   "metadata": {
    "id": "MMTWlvMAd6_P"
   },
   "outputs": [],
   "source": [
    "def plot_test_statistics(node_to_tests):\n",
    "  plt.figure(figsize=(6, 4))\n",
    "\n",
    "  tests_mb_by_mb = [node_to_tests[k][\"mb-by-mb\"] for k in node_to_tests.keys()]\n",
    "  tests_sd = [node_to_tests[k][\"sd-alg\"] for k in node_to_tests.keys()]\n",
    "  tests_ldecc = [node_to_tests[k][\"ldecc\"] for k in node_to_tests.keys()]\n",
    "\n",
    "  plt.hist([tests_mb_by_mb, tests_sd, tests_ldecc],\n",
    "           label=[\"MB-by-MB\", \"SD\", \"LDECC\"], \n",
    "           color=[plot_prop[\"mb-by-mb\"][1], \n",
    "                  plot_prop[\"sd-alg\"][1], plot_prop[\"ldecc\"][1]])\n",
    "  plt.legend()\n",
    "  plt.title(\"Distribution of CI tests\")\n",
    "  plt.xlabel(\"Number of CI tests\")\n",
    "  plt.ylabel(\"Number of nodes\")\n",
    "  plt.show()\n",
    "\n",
    "\n",
    "plot_test_statistics(node_to_tests)"
   ]
  }
 ],
 "metadata": {
  "colab": {
   "provenance": []
  },
  "kernelspec": {
   "display_name": "Python 3 (ipykernel)",
   "language": "python",
   "name": "python3"
  },
  "language_info": {
   "codemirror_mode": {
    "name": "ipython",
    "version": 3
   },
   "file_extension": ".py",
   "mimetype": "text/x-python",
   "name": "python",
   "nbconvert_exporter": "python",
   "pygments_lexer": "ipython3",
   "version": "3.9.13"
  }
 },
 "nbformat": 4,
 "nbformat_minor": 1
}
